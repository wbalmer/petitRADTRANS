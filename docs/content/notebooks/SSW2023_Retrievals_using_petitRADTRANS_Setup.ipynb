{
  "cells": [
    {
      "cell_type": "markdown",
      "metadata": {
        "id": "YfbDHTIO2M7x"
      },
      "source": [
        "# SSW2023 Retrievals using petitRADTRANS Setup\n",
        "\n",
        "## Author: Paul Molliere (Max Planck Institute for Astronomy)\n",
        "\n",
        "This notebook downloads and installs the needed files for the petitRADTRANS exercises and needs only to be run **once**  once for Hands-on Session IV."
      ]
    },
    {
      "cell_type": "markdown",
      "metadata": {
        "id": "9J_tpZzzrf43"
      },
      "source": [
        "## Google Colab Usage\n",
        "\n",
        "*Please read (don't just hit run) the information given above each code cell as there are separate install cells for Colab*\n",
        "&#128992;\n",
        "*and running Python on your computer*\n",
        "&#128309;.\n",
        "\n",
        "**Confirm login account**\n",
        "* Please make sure to be logged in with the Google account you want to use for the exercises before running the code cells below. You can check by clicking the circular account icon in the top right corner of the colab notebook.\n",
        "\n",
        "**Working directory**\n",
        "* Note: The software and data will be installed in a directory called \"SSW2023/pRT\" in your Google drive. This directory will be created if it does not exist.\n",
        "\n",
        "**Running cells**\n",
        "* Run cells individually by clicking on the triangle on each cell\n",
        "\n",
        "**To Restart runtime**\n",
        "*   Click on Runtime menu item\n",
        "*   Select Restart runtime\n",
        "*   Select Run code cells individually from the top\n",
        "\n",
        "**To Recreate runtime**\n",
        "*   Click on Runtime menu item\n",
        "*   Select Disconnect and Delete runtime\n",
        "*   Select Run code cells individually from the top\n",
        "\n",
        "**To Exit:**\n",
        "*   Close the browser window"
      ]
    },
    {
      "cell_type": "markdown",
      "metadata": {
        "id": "EYu35a05rHyg"
      },
      "source": [
        "# 0. Table of Contents\n",
        "\n",
        "This documentation is split into two parts:\n",
        "1. Todos *before* attending the hands-on session. This includes **downloading** the required input data to your Google Drive / computer and testing whether the codes petitRADTRANS (pRT) and Multinest can be successfully installed **before you attempt the exercises**.\n",
        "2. Instructions that explain what to do during the hands-on session."
      ]
    },
    {
      "cell_type": "markdown",
      "metadata": {
        "id": "2oy0BKSrrSmF"
      },
      "source": [
        "# 1. Preparation steps before attending the hands-on session"
      ]
    },
    {
      "cell_type": "markdown",
      "metadata": {
        "id": "eh1fkiczGy0p"
      },
      "source": [
        "## 1.1 Download pRT's input data\n"
      ]
    },
    {
      "cell_type": "markdown",
      "metadata": {
        "id": "UL4K4Yy0wAf-"
      },
      "source": [
        "### 1.1.1 &#128992; If running on Colab:\n",
        "For running the pRT hands-on session you need 2 GB of free space for the input data on your Google Drive. Since you will download the compressed file to your drive, unzip and then delete it, 4 GB of free space are required to complete the download process. If your Drive is full and you cannot empty it sufficiently: please create a new, dedicated Gmail account for the Sagan Summer Workshop which will have 15 GB of free space. If you have enough free space and are logged into the account that you want to use, please carry out this command to connect to your Google Drive.\n",
        "\n",
        "&#128992; **Run this cell if you are running on Colab**"
      ]
    },
    {
      "cell_type": "code",
      "execution_count": null,
      "metadata": {
        "id": "3UDKgAxAFaIC"
      },
      "outputs": [],
      "source": [
        "from google.colab import drive\n",
        "drive.mount(\"/content/drive\")"
      ]
    },
    {
      "cell_type": "markdown",
      "metadata": {
        "id": "wCycIurSFjpg"
      },
      "source": [
        "The commands below defins the download location, downloads the data, unzips it, and puts it into a default location on your Google Drive. The compressed file will then be deleted.\n",
        "\n",
        "\"SSW2023/pRT\" is the default and you can leave that as-is or change it in the fill in box on the right. Be sure to pick a directory name that does not have any spaces.  This cell must be run to define the install location.\n",
        "\n",
        "&#128992; **Run the following 2 cells if you are running on Colab**\n",
        "\n",
        "**Please let the code cells finish before proceeding to the cells further below.**"
      ]
    },
    {
      "cell_type": "code",
      "execution_count": 1,
      "metadata": {
        "id": "4lBFBHqfA1YW"
      },
      "outputs": [],
      "source": [
        "# If you update the directory in the box on the right, re-run this cell\n",
        "pRT_dir = '' #@param {type:\"string\"}"
      ]
    },
    {
      "cell_type": "code",
      "execution_count": null,
      "metadata": {
        "id": "y4q_0aObF2Ly"
      },
      "outputs": [],
      "source": [
        "# Create the pRT directory in drive and install petitRADTRANS\n",
        "import os\n",
        "\n",
        "# Google top level drive dir\n",
        "drive_dir = \"/content/drive/MyDrive/\"\n",
        "\n",
        "# pRT directory path\n",
        "pRT_path = os.path.join(drive_dir, pRT_dir)\n",
        "\n",
        "# Create the pRT directory\n",
        "try:\n",
        "    os.makedirs(pRT_path, exist_ok = True)\n",
        "    print(\"Directory '%s' created successfully\" %pRT_path)\n",
        "except OSError as error:\n",
        "    print(\"Directory '%s' can not be created\")\n",
        "\n",
        "# Change to the pRT_path\n",
        "os.chdir(pRT_path)\n",
        "\n",
        "# Download petitRADTRANS\n",
        "!wget -O pRT_SSW.tar.gz https://catcopy.ipac.caltech.edu/ssw/hands-on/pRT_SSW.tar.gz\n",
        "!tar xf pRT_SSW.tar.gz && rm pRT_SSW.tar.gz"
      ]
    },
    {
      "cell_type": "markdown",
      "metadata": {
        "id": "HptfdYpnwGnr"
      },
      "source": [
        "### 1.1.1 &#128309; If running on your computer:\n",
        "\n",
        "*Install petitRADTRANS (**pRT**) following the instructions in the SSW2023_Python_Instructions document available [here](https://nexsci.caltech.edu/workshop/2023/handson.shtml).*\n",
        "\n",
        "**Even if you have a working pRT installation on your machine already, please download the data folder we prepared for the hands on session here.** This is because the folder contains additional data that we will need during the hands-on session (JWST observations, already binned-down opacities). In its unzipped form the folder has a size of 2 GB. You don't need to replace the standard pRT input data folder, just put the new folder somewhere else, but remember its absolute path.\n",
        "\n",
        "In the code cell below, please specify path where you want to put the hands-on session input data.\n",
        "\n",
        "&#128309; **Run this cell if running on your computer (not Colab!)**"
      ]
    },
    {
      "cell_type": "code",
      "execution_count": 2,
      "metadata": {
        "id": "-gvnjXWWyFzy"
      },
      "outputs": [],
      "source": [
        "import os\n",
        "absolute_path_to_the_data_folder_on_your_machine = '/Users/nasedkin/python-packages/petitRADTRANS/docs/content/notebooks/' # Please complete!\n",
        "os.chdir(absolute_path_to_the_data_folder_on_your_machine)"
      ]
    },
    {
      "cell_type": "markdown",
      "metadata": {
        "id": "aUi-c9pjyGzI"
      },
      "source": [
        "The code cell below downloads the data and unzips it. This requires wget and tar to be installed, the following should then work for Mac and Linux users. It uses a .tar.gz file.\n",
        "\n",
        "If you plan to run on Windows, you can download a zipped version of the input data by appending \".zip\" instead of \"tar.gz\" to the url and file below and you may need to append \"--no-certificate-check\" to the wget commands. Or you can download a zip file directly [here](https://vmcatcopy.ipac.caltech.edu/ssw/hands-on/pRT_SSW.zip)\n",
        "\n",
        "&#128309; **Run this cell if running on your computer (not Colab!)**"
      ]
    },
    {
      "cell_type": "code",
      "execution_count": 3,
      "metadata": {
        "id": "4C9PpbcOxYb6"
      },
      "outputs": [
        {
          "name": "stdout",
          "output_type": "stream",
          "text": [
            "--2023-09-12 09:40:16--  https://catcopy.ipac.caltech.edu/ssw/hands-on/pRT_SSW.tar.gz\n",
            "Resolving catcopy.ipac.caltech.edu (catcopy.ipac.caltech.edu)... 134.4.25.122\n",
            "Connecting to catcopy.ipac.caltech.edu (catcopy.ipac.caltech.edu)|134.4.25.122|:443... connected.\n",
            "HTTP request sent, awaiting response... 200 OK\n",
            "Length: 1438442091 (1,3G) [application/x-gzip]\n",
            "Saving to: ‘pRT_SSW.tar.gz’\n",
            "\n",
            "pRT_SSW.tar.gz      100%[===================>]   1,34G  10,9MB/s    in 2m 18s  \n",
            "\n",
            "2023-09-12 09:42:35 (9,94 MB/s) - ‘pRT_SSW.tar.gz’ saved [1438442091/1438442091]\n",
            "\n"
          ]
        }
      ],
      "source": [
        "!wget -O pRT_SSW.tar.gz https://catcopy.ipac.caltech.edu/ssw/hands-on/pRT_SSW.tar.gz\n",
        "!tar xf pRT_SSW.tar.gz && rm pRT_SSW.tar.gz"
      ]
    },
    {
      "cell_type": "markdown",
      "metadata": {
        "id": "q5badegRBCew"
      },
      "source": [
        "## 1.2 Installation tests\n",
        "This notebook will explain the steps necessary for testing whether petitRADTRANS  (pRT) and the retrieval sampler Multinest run in your setup."
      ]
    },
    {
      "cell_type": "markdown",
      "metadata": {
        "id": "NnvBVwo_zZTy"
      },
      "source": [
        "### 1.2.1 &#128992; If running on Colab:\n",
        "Note that installing pRT and Multinest is required for all Colab runtime sessions you start. But the necessary commands will always be provided for you in the first cells of any pRT hands-on session notebook. Here we are just testing whether it works in principle."
      ]
    },
    {
      "cell_type": "markdown",
      "metadata": {
        "id": "pOKmvCmlBVOF"
      },
      "source": [
        "#### Multinest installation\n",
        "For retrievals we will use the PyMultiNest package, which is a Python wrapper of the nested sampling code called MultiNest. For this it is first necessary to install Multinest. By running the code cell below, the notebook will clone the Multinest source code from the github repository, compile it, and copy the resulting library files to a location where PyMultiNest can find them.\n",
        "\n",
        "&#128992; **Run this cell if you are running on Colab**"
      ]
    },
    {
      "cell_type": "code",
      "execution_count": null,
      "metadata": {
        "id": "a8eXt8XqBVw8"
      },
      "outputs": [],
      "source": [
        "import os\n",
        "os.chdir('/content/')\n",
        "!rm -rf multinest\n",
        "!git clone https://www.github.com/johannesbuchner/multinest.git\n",
        "!cd multinest/build && cmake ..\n",
        "!sed -i 's/-lmkl_gf_lp64 -lmkl_gnu_thread/-lmkl_mc3 -lmkl_rt -lmkl_avx2/' multinest/build/src/CMakeFiles/multinest_shared.dir/link.txt\n",
        "!cd multinest/build && make && make install\n",
        "!cp /content/multinest/lib/* /lib/"
      ]
    },
    {
      "cell_type": "markdown",
      "metadata": {
        "id": "yEQKF9vBGDYG"
      },
      "source": [
        "#### Installing petitRADTRANS from PyPI.\n",
        "Next, we will install petitRADTRANS from PyPI, this can simply be done via pip install, so please run the code cell below. This will also install PyMultiNest, since it is a requirement of pRT.\n",
        "\n",
        "&#128992; **Run this cell if you are running on Colab**"
      ]
    },
    {
      "cell_type": "code",
      "execution_count": null,
      "metadata": {
        "id": "uTd9PGbcGLJK"
      },
      "outputs": [],
      "source": [
        "import numpy as np\n",
        "!pip install --no-cache-dir -U petitRADTRANS"
      ]
    },
    {
      "cell_type": "markdown",
      "metadata": {
        "id": "bdOND6ShztuM"
      },
      "source": [
        "### 1.2.1 &#128309; If running on your computer:\n",
        "If you do not yet have a working pRT installation, please follow the installation instructions given on the [pRT website](https://petitradtrans.readthedocs.io/en/latest/content/installation.html). Please note that while installing pRT *can* go very smoothly, depending on your operating system and on whether you have an Apple chip (M1 or M2) in your Mac, things can become more complicated. While pRT has been developed using a Mac (Intel chip) and Linux, users have contributed various instructions for installing pRT on other operating systems (Mac with Apple Chips, Windows). You will find detailed descriptions of the installation process on the [pRT website](https://petitradtrans.readthedocs.io/en/latest/content/installation.html). With around 1000 registered participants, we ask for your understanding that we cannot help you installing pRT if you run into problems during the workshop. So, please, if installing pRT on your machine does not work at the moment, use the notebooks on Google Colab instead.\n"
      ]
    },
    {
      "cell_type": "markdown",
      "metadata": {
        "id": "S6jfjaszH-N-"
      },
      "source": [
        "## 1.3 Testing the pRT installation."
      ]
    },
    {
      "cell_type": "markdown",
      "metadata": {
        "id": "xqENO-1LITia"
      },
      "source": [
        "First we need to tell pRT where the input data is, we do this by letting the `pRT_input_data_path` environment variable point to that folder."
      ]
    },
    {
      "cell_type": "markdown",
      "metadata": {
        "id": "y9pLMAog6pjN"
      },
      "source": [
        "### 1.3.1 &#128992; If running on Colab:\n",
        "\n",
        "&#128992; **Run this cell if you are running on Colab**"
      ]
    },
    {
      "cell_type": "code",
      "execution_count": 4,
      "metadata": {
        "id": "h0je0mdlICa9"
      },
      "outputs": [
        {
          "ename": "NameError",
          "evalue": "name 'pRT_path' is not defined",
          "output_type": "error",
          "traceback": [
            "\u001b[0;31m---------------------------------------------------------------------------\u001b[0m",
            "\u001b[0;31mNameError\u001b[0m                                 Traceback (most recent call last)",
            "Cell \u001b[0;32mIn[4], line 3\u001b[0m\n\u001b[1;32m      1\u001b[0m \u001b[39mimport\u001b[39;00m \u001b[39mos\u001b[39;00m\n\u001b[1;32m      2\u001b[0m os\u001b[39m.\u001b[39menviron[\u001b[39m'\u001b[39m\u001b[39mpRT_input_data_path\u001b[39m\u001b[39m'\u001b[39m] \u001b[39m=\u001b[39m \\\n\u001b[0;32m----> 3\u001b[0m                   pRT_path\u001b[39m+\u001b[39m\u001b[39m'\u001b[39m\u001b[39m/pRT_retrieval_SSW/input_data\u001b[39m\u001b[39m'\u001b[39m\n",
            "\u001b[0;31mNameError\u001b[0m: name 'pRT_path' is not defined"
          ]
        }
      ],
      "source": [
        "import os\n",
        "os.environ['pRT_input_data_path'] = \\\n",
        "                  pRT_path+'/pRT_retrieval_SSW/input_data'"
      ]
    },
    {
      "cell_type": "markdown",
      "metadata": {
        "id": "PYv4vU-d6zJL"
      },
      "source": [
        "### 1.3.1 &#128309; If running on your computer:\n",
        "Since we are using a dedicated input data folder for the hands-on session, please modify the `RT_input_data_path` for this notebook session, by pointing to the absolute path you specified above.\n",
        "\n",
        "&#128309; **Run this cell if running on your computer (not Colab!)**"
      ]
    },
    {
      "cell_type": "code",
      "execution_count": 5,
      "metadata": {
        "id": "PgsqDA_W7PuV"
      },
      "outputs": [],
      "source": [
        "import os\n",
        "os.environ['pRT_input_data_path'] = \\\n",
        "    os.path.join(absolute_path_to_the_data_folder_on_your_machine, \\\n",
        "                 'pRT_retrieval_SSW/input_data')"
      ]
    },
    {
      "cell_type": "markdown",
      "metadata": {
        "id": "TDkoMWmZ8iQ-"
      },
      "source": [
        "### 1.3.2 Calculating a spectrum with pRT"
      ]
    },
    {
      "cell_type": "markdown",
      "metadata": {
        "id": "o6Bk_pn9Jk5M"
      },
      "source": [
        "Now we will run a short snippet to generate a pRT transmission spectrum. The meaning of the individual steps will be explained in more detail later. If all goes well, it should plot a planetary transmission spectrum (note it will take a few seconds to import the pRT package)."
      ]
    },
    {
      "cell_type": "code",
      "execution_count": 6,
      "metadata": {
        "id": "WgR2fRWfIfK2"
      },
      "outputs": [
        {
          "name": "stderr",
          "output_type": "stream",
          "text": [
            "/Users/nasedkin/python-packages/petitRADTRANS/petitRADTRANS/radtrans.py:119: FutureWarning: pRT_input_data_path was set by an environment variable. In a future update, the path to the petitRADTRANS input_data will be set within a .ini file that will be automatically generated into the user home directory (OS agnostic), inside a .petitradtrans directory\n",
            "  warnings.warn(f\"pRT_input_data_path was set by an environment variable. In a future update, the path to \"\n"
          ]
        },
        {
          "name": "stdout",
          "output_type": "stream",
          "text": [
            "  Read line opacities of H2O_Exomol_R_200...\n",
            " Done.\n",
            "  Read line opacities of CO_all_iso_HITEMP_R_200...\n",
            " Done.\n",
            "  Read line opacities of CH4_hargreaves_R_200...\n",
            " Done.\n",
            "  Read line opacities of CO2_R_200...\n",
            " Done.\n",
            "  Read line opacities of SO2_R_200...\n",
            " Done.\n",
            "\n",
            "  Read CIA opacities for H2-H2...\n",
            "  Read CIA opacities for H2-He...\n",
            "Done.\n",
            "\n"
          ]
        },
        {
          "data": {
            "image/png": "[encoded data removed]",
            "text/plain": [
              "<Figure size 1000x600 with 1 Axes>"
            ]
          },
          "metadata": {},
          "output_type": "display_data"
        }
      ],
      "source": [
        "from matplotlib import pyplot as plt\n",
        "import numpy as np\n",
        "from petitRADTRANS import Radtrans\n",
        "from petitRADTRANS import nat_cst as nc\n",
        "\n",
        "atmosphere = Radtrans(line_species = ['H2O_Exomol_R_200',\n",
        "                                      'CO_all_iso_HITEMP_R_200',\n",
        "                                      'CH4_hargreaves_R_200',\n",
        "                                      'CO2_R_200',\n",
        "                                      'SO2_R_200'],\n",
        "                      rayleigh_species = ['H2', 'He'],\n",
        "                      continuum_opacities = ['H2-H2', 'H2-He'],\n",
        "                      wlen_bords_micron = [2.25, 6])\n",
        "\n",
        "pressures = np.logspace(-6, 2, 100)\n",
        "atmosphere.setup_opa_structure(pressures)\n",
        "\n",
        "temperature = 1200. * np.ones_like(pressures)\n",
        "\n",
        "mass_fractions = {}\n",
        "mass_fractions['H2'] = 0.74 * np.ones_like(temperature)\n",
        "mass_fractions['He'] = 0.24 * np.ones_like(temperature)\n",
        "mass_fractions['H2O'] = 0.001 * np.ones_like(temperature)\n",
        "mass_fractions['CO'] = 0.005 * np.ones_like(temperature)\n",
        "mass_fractions['CO2'] = 0.00001 * np.ones_like(temperature)\n",
        "mass_fractions['SO2'] = 0.00001 * np.ones_like(temperature)\n",
        "mass_fractions['CH4'] = 0.000001 * np.ones_like(temperature)\n",
        "\n",
        "MMW = 2.33 * np.ones_like(temperature)\n",
        "\n",
        "R_pl = 1.6*nc.r_jup_mean\n",
        "gravity = 1e1**3.\n",
        "P0 = 0.01\n",
        "\n",
        "atmosphere.calc_transm(temperature, mass_fractions, gravity, MMW, R_pl=R_pl, P0_bar=P0)\n",
        "\n",
        "plt.rcParams['figure.figsize'] = (10, 6)\n",
        "\n",
        "plt.plot(nc.c/atmosphere.freq/1e-4, atmosphere.transm_rad/nc.r_jup_mean)\n",
        "\n",
        "plt.xlabel('Wavelength (microns)')\n",
        "plt.ylabel(r'Transit radius ($\\rm R_{Jup}$)')\n",
        "plt.show()"
      ]
    },
    {
      "cell_type": "markdown",
      "metadata": {
        "id": "ddilzWaKvMRi"
      },
      "source": [
        "## 1.4 Testing the MultiNest installation\n",
        "The snippet below tests whether PyMultiNest works as intended. Simply run it and check that you don't get any errors (note that you may get a \"divide by zero encountered\" warning). This test is taken from Johannes Buchner's [PyMultiNest tutorial](http://johannesbuchner.github.io/pymultinest-tutorial/)."
      ]
    },
    {
      "cell_type": "code",
      "execution_count": null,
      "metadata": {
        "id": "SWyeFLaPJxaJ"
      },
      "outputs": [],
      "source": [
        "import json\n",
        "from numpy import log, exp, pi\n",
        "import scipy.stats, scipy\n",
        "import pymultinest\n",
        "import matplotlib.pyplot as plt\n",
        "\n",
        "# Note for Colab users - creates the directory in the runtime, not persistent in Drive\n",
        "! mkdir PMN_test_run\n",
        "! mkdir PMN_test_run/out\n",
        "\n",
        "os.chdir('PMN_test_run')\n",
        "\n",
        "def prior(cube, ndim, nparams):\n",
        "\tcube[0] = cube[0] * 2\n",
        "\n",
        "positions = np.array([0.1, 0.2, 0.5, 0.55, 0.9, 1.1])\n",
        "width = 0.01\n",
        "\n",
        "def loglike(cube, ndim, nparams):\n",
        "\t# get the current parameter (is between 0:2 now)\n",
        "\tpos = cube[0]\n",
        "\tlikelihood = exp(-0.5 * ((pos - positions) / width)**2) / (2*pi*width**2)**0.5\n",
        "\treturn log(likelihood.mean())\n",
        "\n",
        "parameters = [\"position\"]\n",
        "n_params = len(parameters)\n",
        "\n",
        "pymultinest.run(loglike, prior, n_params, outputfiles_basename='out/',\n",
        "\tresume = False, verbose = True)\n",
        "json.dump(parameters, open('out/params.json', 'w'))\n",
        "\n",
        "!multinest_marginals.py out/\n",
        "\n",
        "from IPython.display import Image\n",
        "Image('out/marg.png')"
      ]
    },
    {
      "cell_type": "code",
      "execution_count": null,
      "metadata": {
        "id": "PZyL_FOt9XCe"
      },
      "outputs": [],
      "source": [
        "# go back up a directory\n",
        "os.chdir('../')"
      ]
    },
    {
      "cell_type": "markdown",
      "metadata": {
        "id": "LOg0KCB6xKH-"
      },
      "source": [
        "# 2. During the Hands-on session IV exercises: how to start\n",
        "The retrieval hands-on session has two parts. Both parts consist of a notebook. In the first you will learn how to use pRT. The second notebook focuses on how to run retrievals. The idea is that you read through the notebooks, run the provided code cells and complete the exercises which consist of filling in blank code lines. At the end of the hands on session you will have run your own retrieval on actual JWST observations! Please click the links provided below to start with the hands-on session notebooks and save a copy in  your own Google Drive. Please stick to the order, since the second nodebook builds on the knowledge you gain in the first!\n",
        "1. [Exercise notebook: an introduction to pRT](https://colab.research.google.com/drive/1CzyrIXuYqqbsD1tQCVyGBuPxbQZRzkZK?usp=sharing)\n",
        "2. [Exercise notebook: running retrievals on JWST data](https://colab.research.google.com/drive/1YL30vMtqEf3iLZItLPib3QTtZ4xyFT7X?usp=sharing)"
      ]
    }
  ],
  "metadata": {
    "colab": {
      "provenance": [],
      "toc_visible": true
    },
    "kernelspec": {
      "display_name": "Python 3",
      "name": "python3"
    },
    "language_info": {
      "codemirror_mode": {
        "name": "ipython",
        "version": 3
      },
      "file_extension": ".py",
      "mimetype": "text/x-python",
      "name": "python",
      "nbconvert_exporter": "python",
      "pygments_lexer": "ipython3",
      "version": "3.10.11"
    }
  },
  "nbformat": 4,
  "nbformat_minor": 0
}
