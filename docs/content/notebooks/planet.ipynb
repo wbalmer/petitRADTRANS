{
 "cells": [
  {
   "cell_type": "markdown",
   "id": "c231a474",
   "metadata": {},
   "source": [
    "# `Planet`: a convenient way to access planetary data\n",
    "\n",
    "Written by [Doriann Blain](mailto:doriann.blain@gmail.com).\n",
    "\n",
    "With petitRADTRANS, you can use the `Planet` object to easily access planetary parameters from the [NASA Exoplanet Archive](https://exoplanetarchive.ipac.caltech.edu/index.html). To use it, you first need to import it:"
   ]
  },
  {
   "cell_type": "code",
   "execution_count": 1,
   "id": "165025db",
   "metadata": {},
   "outputs": [],
   "source": [
    "from petitRADTRANS.planet import Planet"
   ]
  },
  {
   "cell_type": "markdown",
   "id": "89fe3749-26e3-4700-a682-0d835a9594ca",
   "metadata": {},
   "source": [
    "## Getting `Planet` data\n",
    "\n",
    "The `Planet` object automatically downloads data from the [NASA Exoplanet Archive](https://exoplanetarchive.ipac.caltech.edu/), provided that you give the **exact** planet name as used by the NASA archive (case and space sensitive)."
   ]
  },
  {
   "cell_type": "code",
   "execution_count": 2,
   "id": "a5e5b257",
   "metadata": {},
   "outputs": [],
   "source": [
    "planet = Planet.get('HD 209458 b')  # an internet connection is required the first time a Planet is obtained"
   ]
  },
  {
   "cell_type": "markdown",
   "id": "282b2013",
   "metadata": {},
   "source": [
    "<div class=\"alert alert-warning\">\n",
    "    \n",
    "Be careful to enter the **exact** name of your planet, inluding case and spaces.\n",
    "</div>\n",
    "\n",
    "<div class=\"alert alert-block alert-info\">\n",
    "\n",
    "- All values are given in CGS units.\n",
    "- The value of each attribute is taken from **the field with the smallest errorbars**, so different parameter may come from different sources. This is similar, but not identical, to the [NASA Exoplanet Archive Composite Planet Data Table](https://exoplanetarchive.ipac.caltech.edu/docs/pscp_about.html).\n",
    "- The next time you need to use a `Planet` with the same name, no download will be necessary.\n",
    "- The information are stored within your [\"input_data\"](https://petitradtrans.readthedocs.io/en/latest/content/installation.html#pre-installation-download-the-opacity-data) folder, in the planet_data directory, as an HDF5 file.\n",
    "</div>"
   ]
  },
  {
   "cell_type": "markdown",
   "id": "e4668265",
   "metadata": {},
   "source": [
    "## Basic `Planet` usage\n",
    "Now you can use your `Planet`'s attributes to get key parameters such as the mass, radius, semi-major axis, system distance, etc. All of the `Planet` units are in CGS, so the attributes of your `Planet` can be directly plugged in pRT.\n",
    "\n",
    "Here is an example to display the radius of the planet with its upper and lower uncertainties:"
   ]
  },
  {
   "cell_type": "code",
   "execution_count": 3,
   "id": "03b2bfcb-a18f-42c1-9bcd-fce116582b55",
   "metadata": {},
   "outputs": [
    {
     "name": "stdout",
     "output_type": "stream",
     "text": [
      "HD 209458 b's radius: 98659 +1215 / -1215 km\n"
     ]
    }
   ],
   "source": [
    "# Display the planet radius and its uncertainties\n",
    "print(\n",
    "    f\"{planet.name}'s radius: {planet.radius * 1e-5:.0f} \"\n",
    "    f\"+{planet.radius_error_upper * 1e-5:.0f} / {planet.radius_error_lower * 1e-5:.0f} km\"\n",
    ")"
   ]
  },
  {
   "cell_type": "markdown",
   "id": "8684a8cc-e58c-440b-ac34-816a0f03a429",
   "metadata": {},
   "source": [
    "The list of the `Planet` attributes can be accessed from using the object's `__dict__`:"
   ]
  },
  {
   "cell_type": "code",
   "execution_count": 4,
   "id": "11315b10",
   "metadata": {},
   "outputs": [
    {
     "name": "stdout",
     "output_type": "stream",
     "text": [
      "name\n",
      "mass\n",
      "mass_error_upper\n",
      "mass_error_lower\n",
      "radius\n",
      "radius_error_upper\n",
      "radius_error_lower\n",
      "orbit_semi_major_axis\n",
      "orbit_semi_major_axis_error_upper\n",
      "orbit_semi_major_axis_error_lower\n",
      "orbital_eccentricity\n",
      "orbital_eccentricity_error_upper\n",
      "orbital_eccentricity_error_lower\n",
      "orbital_inclination\n",
      "orbital_inclination_error_upper\n",
      "orbital_inclination_error_lower\n",
      "orbital_period\n",
      "orbital_period_error_upper\n",
      "orbital_period_error_lower\n",
      "argument_of_periastron\n",
      "argument_of_periastron_error_upper\n",
      "argument_of_periastron_error_lower\n",
      "epoch_of_periastron\n",
      "epoch_of_periastron_error_upper\n",
      "epoch_of_periastron_error_lower\n",
      "ra\n",
      "dec\n",
      "x\n",
      "y\n",
      "z\n",
      "reference_pressure\n",
      "density\n",
      "density_error_upper\n",
      "density_error_lower\n",
      "reference_gravity\n",
      "reference_gravity_error_upper\n",
      "reference_gravity_error_lower\n",
      "equilibrium_temperature\n",
      "equilibrium_temperature_error_upper\n",
      "equilibrium_temperature_error_lower\n",
      "insolation_flux\n",
      "insolation_flux_error_upper\n",
      "insolation_flux_error_lower\n",
      "bond_albedo\n",
      "bond_albedo_error_upper\n",
      "bond_albedo_error_lower\n",
      "transit_depth\n",
      "transit_depth_error_upper\n",
      "transit_depth_error_lower\n",
      "transit_midpoint_time\n",
      "transit_midpoint_time_error_upper\n",
      "transit_midpoint_time_error_lower\n",
      "transit_duration\n",
      "transit_duration_error_upper\n",
      "transit_duration_error_lower\n",
      "projected_obliquity\n",
      "projected_obliquity_error_upper\n",
      "projected_obliquity_error_lower\n",
      "true_obliquity\n",
      "true_obliquity_error_upper\n",
      "true_obliquity_error_lower\n",
      "radial_velocity_semi_amplitude\n",
      "radial_velocity_semi_amplitude_error_upper\n",
      "radial_velocity_semi_amplitude_error_lower\n",
      "planet_stellar_radius_ratio\n",
      "planet_stellar_radius_ratio_error_upper\n",
      "planet_stellar_radius_ratio_error_lower\n",
      "semi_major_axis_stellar_radius_ratio\n",
      "semi_major_axis_stellar_radius_ratio_error_upper\n",
      "semi_major_axis_stellar_radius_ratio_error_lower\n",
      "reference\n",
      "discovery_year\n",
      "discovery_method\n",
      "discovery_reference\n",
      "confirmation_status\n",
      "host_name\n",
      "star_spectral_type\n",
      "star_mass\n",
      "star_mass_error_upper\n",
      "star_mass_error_lower\n",
      "star_radius\n",
      "star_radius_error_upper\n",
      "star_radius_error_lower\n",
      "star_age\n",
      "star_age_error_upper\n",
      "star_age_error_lower\n",
      "star_metallicity\n",
      "star_metallicity_error_upper\n",
      "star_metallicity_error_lower\n",
      "star_effective_temperature\n",
      "star_effective_temperature_error_upper\n",
      "star_effective_temperature_error_lower\n",
      "star_luminosity\n",
      "star_luminosity_error_upper\n",
      "star_luminosity_error_lower\n",
      "star_rotational_period\n",
      "star_rotational_period_error_upper\n",
      "star_rotational_period_error_lower\n",
      "star_radial_velocity\n",
      "star_radial_velocity_error_upper\n",
      "star_radial_velocity_error_lower\n",
      "star_rotational_velocity\n",
      "star_rotational_velocity_error_upper\n",
      "star_rotational_velocity_error_lower\n",
      "star_density\n",
      "star_density_error_upper\n",
      "star_density_error_lower\n",
      "star_reference_gravity\n",
      "star_reference_gravity_error_upper\n",
      "star_reference_gravity_error_lower\n",
      "star_reference\n",
      "system_star_number\n",
      "system_planet_number\n",
      "system_moon_number\n",
      "system_distance\n",
      "system_distance_error_upper\n",
      "system_distance_error_lower\n",
      "system_apparent_magnitude_v\n",
      "system_apparent_magnitude_v_error_upper\n",
      "system_apparent_magnitude_v_error_lower\n",
      "system_apparent_magnitude_j\n",
      "system_apparent_magnitude_j_error_upper\n",
      "system_apparent_magnitude_j_error_lower\n",
      "system_apparent_magnitude_k\n",
      "system_apparent_magnitude_k_error_upper\n",
      "system_apparent_magnitude_k_error_lower\n",
      "system_proper_motion\n",
      "system_proper_motion_error_upper\n",
      "system_proper_motion_error_lower\n",
      "system_proper_motion_ra\n",
      "system_proper_motion_ra_error_upper\n",
      "system_proper_motion_ra_error_lower\n",
      "system_proper_motion_dec\n",
      "system_proper_motion_dec_error_upper\n",
      "system_proper_motion_dec_error_lower\n",
      "units\n"
     ]
    }
   ],
   "source": [
    "for key in planet.__dict__:\n",
    "    print(f\"{key}\")"
   ]
  },
  {
   "cell_type": "markdown",
   "id": "e922cd4e",
   "metadata": {},
   "source": [
    "<div class=\"alert alert-warning\">\n",
    "\n",
    "A description of these attributes is available on the [NASA Exoplanet Archive website](https://exoplanetarchive.ipac.caltech.edu/docs/API_PS_columns.html) (see Table label). **Remember that for `Planet`, the units has been converted to CGS.**\n",
    "</div>"
   ]
  },
  {
   "cell_type": "markdown",
   "id": "2d9cf32a-c92c-4c68-998c-709ca71ded38",
   "metadata": {},
   "source": [
    "## Other useful function\n",
    "\n",
    "The `Planet` object provides functions to estimate useful parameters.\n",
    "\n",
    "<div class=\"alert alert-warning\">\n",
    "\n",
    "All the functions described below, starting with `calculate_`, must be used with a `Planet` instance. They all have an alternative function, starting with `compute_`, which can be used without a `Planet` instance, but require more arguments. For example, `calculate_equilibrium_temperature` has an alternative function `compute_equilibrium_temperature`, which can be called with `Planet.compute_equilibrium_temperature(...)`.\n",
    "</div>\n",
    "\n",
    "Let's make some useful imports first."
   ]
  },
  {
   "cell_type": "code",
   "execution_count": 5,
   "id": "1104c9bd-98fd-46c7-82dd-81f3e456e4b5",
   "metadata": {},
   "outputs": [],
   "source": [
    "import numpy as np\n",
    "import matplotlib.pyplot as plt"
   ]
  },
  {
   "cell_type": "markdown",
   "id": "6e4e391f",
   "metadata": {},
   "source": [
    "### Useful functions for observations from Earth\n",
    "\n",
    "These functions make use of the [`astropy.coordinates`](https://docs.astropy.org/en/stable/coordinates/index.html) module.\n",
    "\n",
    "Let's set an observing time in Modified Julian Day ([MJD](https://en.wikipedia.org/wiki/Julian_day)):"
   ]
  },
  {
   "cell_type": "code",
   "execution_count": 6,
   "id": "84ba8ee4-df6f-4b0b-96c7-92b097dceea5",
   "metadata": {},
   "outputs": [],
   "source": [
    "observing_time = 60068.37965278  # (MJD)"
   ]
  },
  {
   "cell_type": "markdown",
   "id": "aacaa598-d636-410e-80a1-60c074272449",
   "metadata": {},
   "source": [
    "#### Astropy coordinates\n",
    "\n",
    "It is possible to retrieve the planet's astropy coordinates of both a target and an observation site with the `get_astropy_coordinates` function:"
   ]
  },
  {
   "cell_type": "code",
   "execution_count": 7,
   "id": "b113c608-1fa0-48a2-9932-e4875e07c93e",
   "metadata": {},
   "outputs": [
    {
     "name": "stdout",
     "output_type": "stream",
     "text": [
      "Observer location: (1946404.34103884, -5467644.29079852, -2642728.20144425) m\n",
      "Target astropy's SkyCoord: <SkyCoord (ICRS): (ra, dec) in deg\n",
      "    (330.7950219, 18.8842419)>\n"
     ]
    }
   ],
   "source": [
    "observer_location, target_coordinates = planet.get_astropy_coordinates(\n",
    "    ra=planet.ra,\n",
    "    dec=planet.dec,\n",
    "    site_name='paranal observatory',\n",
    "    # latitude=None,  # alternatively, any coordinate can be used\n",
    "    # longitude=None,\n",
    "    # height=None\n",
    ")\n",
    "\n",
    "print(f\"Observer location: {observer_location}\")\n",
    "print(f\"Target astropy's SkyCoord: {target_coordinates}\")"
   ]
  },
  {
   "cell_type": "markdown",
   "id": "00949f88-3364-4b56-9c2a-daf1804459d4",
   "metadata": {},
   "source": [
    "<div class=\"alert alert-info\">\n",
    "\n",
    "The `SkyCoord` `astropy` object is described [here](https://docs.astropy.org/en/stable/api/astropy.coordinates.SkyCoord.html).\n",
    "\n",
    "The variable `observer_location` is an `astropy` [`EarthLocation` object](https://docs.astropy.org/en/stable/api/astropy.coordinates.EarthLocation.html).\n",
    "\n",
    "They can be used in `astropy` functions where these respective objects are required in argument. For more details, please refer to the [`astropy` documentation](https://docs.astropy.org/en/stable/index_user_docs.html).\n",
    "</div>\n",
    "\n",
    "The following functions make use, internally, of the above coordinates:"
   ]
  },
  {
   "cell_type": "markdown",
   "id": "a5931bdc-8eb9-4a5b-b350-4f1e58889081",
   "metadata": {},
   "source": [
    "#### [Airmass](https://en.wikipedia.org/wiki/Air_mass_(astronomy))"
   ]
  },
  {
   "cell_type": "code",
   "execution_count": 8,
   "id": "0566b134",
   "metadata": {},
   "outputs": [
    {
     "name": "stdout",
     "output_type": "stream",
     "text": [
      " Airmass looking at HD 209458 b (60068.38 MJD): 2.02\n"
     ]
    }
   ],
   "source": [
    "airmass = planet.calculate_airmass(\n",
    "    time=observing_time,\n",
    "    site_name='paranal observatory',\n",
    "    # latitude=None,  # alternatively, any coordinate can be used\n",
    "    # longitude=None,\n",
    "    # height=None,\n",
    "    time_format='mjd'\n",
    ")\n",
    "\n",
    "print(f\" Airmass looking at {planet.name} ({observing_time:.2f} MJD): {airmass:.2f}\")"
   ]
  },
  {
   "cell_type": "markdown",
   "id": "41dfecd2-1620-4933-9ce2-6a2d24fb8411",
   "metadata": {},
   "source": [
    "#### [Barycentric velocity](https://docs.astropy.org/en/stable/coordinates/velocities.html#radial-velocity-corrections)"
   ]
  },
  {
   "cell_type": "code",
   "execution_count": 9,
   "id": "1e3e555b-c721-436d-acd0-e7b34a898b27",
   "metadata": {},
   "outputs": [
    {
     "name": "stdout",
     "output_type": "stream",
     "text": [
      " Barycentric velocity looking at HD 209458 b (60068.38 MJD): 23.18 km.s-1\n"
     ]
    }
   ],
   "source": [
    "v_bary = planet.calculate_barycentric_velocities(\n",
    "    time=observing_time,\n",
    "    site_name='paranal observatory',\n",
    "    # latitude=None,  # alternatively, any coordinate can be used\n",
    "    # longitude=None,\n",
    "    # height=None,\n",
    "    time_format='mjd'\n",
    ")\n",
    "\n",
    "print(f\" Barycentric velocity looking at {planet.name} ({observing_time:.2f} MJD): {v_bary * 1e-5:.2f} km.s-1\")"
   ]
  },
  {
   "cell_type": "markdown",
   "id": "4db1349b",
   "metadata": {},
   "source": [
    "### Other useful functions\n"
   ]
  },
  {
   "cell_type": "markdown",
   "id": "69ae2754-a401-48cf-894b-ceee182eb44b",
   "metadata": {},
   "source": [
    "#### Equilibrium temperature\n",
    "If not provided by the NASA Exoplanet Archive, the equilibrium temperature of an orbiting `Planet` can be calculated with `Planet.calculate_equilibrium_temperature()`."
   ]
  },
  {
   "cell_type": "code",
   "execution_count": 10,
   "id": "ec8bbc09",
   "metadata": {},
   "outputs": [
    {
     "name": "stdout",
     "output_type": "stream",
     "text": [
      "T_eq (calculated): 1458.07 (+ 9.69 - 9.91) K\n",
      "T_eq (from archive): 1449.00 (+ 12.00 - 12.00) K\n"
     ]
    }
   ],
   "source": [
    "equilibrium_temperature, equilibrium_temperature_error_upper, equilibrium_temperature_error_lower = planet.calculate_equilibrium_temperature()\n",
    "\n",
    "print(f\"T_eq (calculated): {equilibrium_temperature:.2f} (+ {equilibrium_temperature_error_upper:.2f} - {np.abs(equilibrium_temperature_error_lower):.2f}) K\")\n",
    "print(f\"T_eq (from archive): {planet.equilibrium_temperature:.2f} (+ {planet.equilibrium_temperature_error_upper:.2f} - {np.abs(planet.equilibrium_temperature_error_lower):.2f}) K\")"
   ]
  },
  {
   "cell_type": "markdown",
   "id": "167d3282",
   "metadata": {},
   "source": [
    "<div class=\"alert alert-block alert-info\">\n",
    "    \n",
    "The errorbars are calculated using the `petitRADTRANS.utils.calculate_uncertainties()` function, using the uncertainties on the star effective temperature, the star radius, and the orbit semi-major axis.\n",
    "</div>"
   ]
  },
  {
   "cell_type": "markdown",
   "id": "abcef042-0793-431c-b950-9f2fd3313b84",
   "metadata": {},
   "source": [
    "#### Full transit duration\n",
    "\n",
    "The total transit duration ($T_{14}$) is given by the attribute `transit_duration`, and represents the time the planet eclipses the star, including ingress and egress. The full transit duration ($T_{23}$), which represents the time that the planet's disk is totally within the star's disk (without ingress and egress)."
   ]
  },
  {
   "cell_type": "code",
   "execution_count": 11,
   "id": "7ce12556-4580-4052-9fc7-2eac4532e6f2",
   "metadata": {},
   "outputs": [
    {
     "name": "stdout",
     "output_type": "stream",
     "text": [
      "Full transit duration: 2.24 h\n",
      "Total transit duration: 3.07 h\n"
     ]
    }
   ],
   "source": [
    "full_transit_duration = planet.calculate_full_transit_duration()\n",
    "\n",
    "print(f\"Full transit duration: {full_transit_duration / 3600:.2f} h\")\n",
    "print(f\"Total transit duration: {planet.transit_duration / 3600:.2f} h\")"
   ]
  },
  {
   "cell_type": "markdown",
   "id": "15bf0bbe-33f7-432f-8110-135587fed422",
   "metadata": {},
   "source": [
    "#### Impact parameter\n",
    "\n",
    "In astronomy, the impact parameter of a transit ($b$) is defined as the minimum distance between a planet's disk center and its star's disk center as seen in projection by the observer, in units of the star's radius."
   ]
  },
  {
   "cell_type": "code",
   "execution_count": 12,
   "id": "e1199880-3542-4c27-8671-1cd26673eace",
   "metadata": {},
   "outputs": [
    {
     "name": "stdout",
     "output_type": "stream",
     "text": [
      "Impact parameter: 0.47 star radius\n"
     ]
    }
   ],
   "source": [
    "impact_parameter = planet.calculate_impact_parameter()\n",
    "\n",
    "print(f\"Impact parameter: {impact_parameter:.2f} star radius\")"
   ]
  },
  {
   "cell_type": "markdown",
   "id": "54d9ef53-df76-47fe-ba08-cb454ec31ff6",
   "metadata": {},
   "source": [
    "#### Mid transit time\n",
    "\n",
    "The mid transit time ($T_0$) is the time (or date) at which a transitting planet is halfway through its transit. \n",
    "\n",
    "The function calculates the date of the closest transit after the observation day (JD), using the `transit_midpoint_time` argument as reference."
   ]
  },
  {
   "cell_type": "code",
   "execution_count": 13,
   "id": "e46a0c0d-099b-4664-ade1-1eced1f2feb0",
   "metadata": {},
   "outputs": [
    {
     "name": "stdout",
     "output_type": "stream",
     "text": [
      "Mid transit time of HD 209458 b (closest after 60068.38 MJD): 60069.49068 +/- 0.00072 MJD (from 2386 orbits since the reference transit at 51659.44 MJD)\n"
     ]
    }
   ],
   "source": [
    "mid_transit_time, mid_transit_time_error_upper, mid_transit_time_error_lower, n_orbits = planet.calculate_mid_transit_time(\n",
    "    observation_day=observing_time + 2400000.5,  # conversion to JD\n",
    "    day2second=False  # if True, return the result in seconds since the start of the transit's day\n",
    ")\n",
    "\n",
    "print(f\"Mid transit time of {planet.name} (closest after {observing_time:.2f} MJD): \"\n",
    "      f\"{mid_transit_time - 2400000.5:.5f} +/- {np.mean(np.abs((mid_transit_time_error_upper, mid_transit_time_error_lower))):.5f} MJD \"\n",
    "      f\"(from {n_orbits:.0f} orbits since the reference transit at {planet.transit_midpoint_time / 3600 / 24 - 2400000.5:.2f} MJD)\"\n",
    ")"
   ]
  },
  {
   "cell_type": "markdown",
   "id": "b5e0e7ef-b22b-4268-9c2b-fd9f9c1e9cef",
   "metadata": {},
   "source": [
    "#### Orbital phases and orbital longitudes\n",
    "The orbital phase ($\\phi$) represents the position of a transiting planet (with low eccentricty) along its orbit relative to the observer. The orbital phase is 0 when the planet is in front of the star relative to the observer (mid primary transit), while it is 0.5 when the planet is behind the star (mid secondary transit).\n",
    "\n",
    "The orbital longitude is equivalent, but instead of being unitless like the orbital phase, it can be expressed in degree or radian.\n",
    "\n",
    "The `Planet` function to calculate the orbital phase loops the value back to 0 when the orbital phase reaches -1 or +1."
   ]
  },
  {
   "cell_type": "code",
   "execution_count": 14,
   "id": "56933190",
   "metadata": {},
   "outputs": [
    {
     "data": {
      "text/plain": [
       "Text(0, 0.5, 'Orbital phase')"
      ]
     },
     "execution_count": 14,
     "metadata": {},
     "output_type": "execute_result"
    },
    {
     "data": {
      "image/png": "[encoded data removed]",
      "text/plain": [
       "<Figure size 640x480 with 1 Axes>"
      ]
     },
     "metadata": {},
     "output_type": "display_data"
    }
   ],
   "source": [
    "times_to_mid_transit = np.linspace(-planet.orbital_period * 1.15, planet.orbital_period * 1.15)  # (s)\n",
    "\n",
    "orbital_phases = planet.calculate_orbital_phases(\n",
    "    phase_start=0.0,  # start at mid-transit since the times are given relative to mid-transit\n",
    "    times=times_to_mid_transit\n",
    ")\n",
    "\n",
    "plt.plot(times_to_mid_transit / planet.orbital_period, orbital_phases)\n",
    "plt.xlabel(r'Time to $T_0$ ($P$)')\n",
    "plt.ylabel('Orbital phase')"
   ]
  },
  {
   "cell_type": "markdown",
   "id": "ebbd0316-52cf-4b84-8e49-a561c29f7b83",
   "metadata": {},
   "source": [
    "The equivalent in orbital longitudes can be obtained as follows:"
   ]
  },
  {
   "cell_type": "code",
   "execution_count": 15,
   "id": "d54992bb-7703-4b72-b806-b93274a559ee",
   "metadata": {},
   "outputs": [
    {
     "data": {
      "text/plain": [
       "Text(0, 0.5, 'Orbital longitude (deg)')"
      ]
     },
     "execution_count": 15,
     "metadata": {},
     "output_type": "execute_result"
    },
    {
     "data": {
      "image/png": "[encoded data removed]",
      "text/plain": [
       "<Figure size 640x480 with 1 Axes>"
      ]
     },
     "metadata": {},
     "output_type": "display_data"
    }
   ],
   "source": [
    "orbital_longitudes = planet.calculate_orbital_longitudes(\n",
    "    longitude_start=0.0,  # start at mid-transit since the times are given relative to mid-transit\n",
    "    times=times_to_mid_transit,\n",
    "    rad2deg=True  # convert radians into degrees\n",
    ")\n",
    "\n",
    "plt.plot(times_to_mid_transit / planet.orbital_period, orbital_longitudes)\n",
    "plt.xlabel(r'Time to $T_0$ ($P$)')\n",
    "plt.ylabel('Orbital longitude (deg)')"
   ]
  },
  {
   "cell_type": "markdown",
   "id": "06e06d1f-65fd-4a96-8c7a-29ef91ba8f99",
   "metadata": {},
   "source": [
    "#### Radial velocity, $K_p$, orbital velocity\n",
    "\n",
    "The radial velocities relative to an observer at given orbital longitudes, assuming an eccentricity close to 0 and a planet mass negligible compared to the star mass, can be obtained as follows:"
   ]
  },
  {
   "cell_type": "code",
   "execution_count": 16,
   "id": "1bd29e49-b812-4bbb-8ecc-598a10d500ff",
   "metadata": {},
   "outputs": [
    {
     "data": {
      "text/plain": [
       "Text(0, 0.5, 'Radial velocity (km.s-1)')"
      ]
     },
     "execution_count": 16,
     "metadata": {},
     "output_type": "execute_result"
    },
    {
     "data": {
      "image/png": "[encoded data removed]",
      "text/plain": [
       "<Figure size 640x480 with 1 Axes>"
      ]
     },
     "metadata": {},
     "output_type": "display_data"
    }
   ],
   "source": [
    "radial_velocities = planet.calculate_radial_velocity(orbital_longitudes)  # orbital longitudes in degree\n",
    "\n",
    "plt.plot(times_to_mid_transit / planet.orbital_period, radial_velocities * 1e-5)\n",
    "plt.xlabel(r'Time to $T_0$ ($P$)')\n",
    "plt.ylabel('Radial velocity (km.s-1)')"
   ]
  },
  {
   "cell_type": "markdown",
   "id": "d53afecd-9a16-44ba-bcfb-7ce427d3d307",
   "metadata": {},
   "source": [
    "Useful intermediates can also be calculated. One of them is the radial velocity semi-amplitude ($K_p$), which can be obtained as follows:"
   ]
  },
  {
   "cell_type": "code",
   "execution_count": 17,
   "id": "4818bf5e-1d3f-45b5-ba60-4e0b509070cd",
   "metadata": {},
   "outputs": [
    {
     "name": "stdout",
     "output_type": "stream",
     "text": [
      "K_p = 141.14 km.s-1\n"
     ]
    }
   ],
   "source": [
    "radial_velocity_semi_amplitude = planet.calculate_radial_velocity_semi_amplitude()\n",
    "\n",
    "print(f\"K_p = {radial_velocity_semi_amplitude * 1e-5:.2f} km.s-1\")"
   ]
  },
  {
   "cell_type": "markdown",
   "id": "04416acb-fd13-4962-afef-e7ffd28bd896",
   "metadata": {},
   "source": [
    "The orbital velocity, again assuming a circular orbit, is obtained via:"
   ]
  },
  {
   "cell_type": "code",
   "execution_count": 18,
   "id": "528d8d31-cab7-4c40-8123-4624855ed70d",
   "metadata": {},
   "outputs": [
    {
     "name": "stdout",
     "output_type": "stream",
     "text": [
      "Orbital velocity = 141.34 km.s-1\n"
     ]
    }
   ],
   "source": [
    "orbital_velocity = planet.calculate_orbital_velocity()\n",
    "\n",
    "print(f\"Orbital velocity = {orbital_velocity * 1e-5:.2f} km.s-1\")"
   ]
  },
  {
   "cell_type": "markdown",
   "id": "e475a573",
   "metadata": {},
   "source": [
    "### Mass, radius, reference gravity\n",
    "If not provided by the NASA Exoplanet Archive, the mass, radius, and reference gravity (aka \"surface gravity\") can be calculated using:\n",
    "- `Planet.mass2reference_gravity`\n",
    "- `Planet.reference_gravity2radius`\n",
    "- `Planet.reference_gravity2mass`\n",
    "\n",
    "For example, the planet's mass can be obtained from its reference gravity:"
   ]
  },
  {
   "cell_type": "code",
   "execution_count": 19,
   "id": "87b45726",
   "metadata": {},
   "outputs": [
    {
     "name": "stdout",
     "output_type": "stream",
     "text": [
      "mass: 0.68 (+ 0.03 - 0.03) M_Jup\n"
     ]
    }
   ],
   "source": [
    "from petitRADTRANS import physical_constants as cst\n",
    "\n",
    "mass, mass_error_upper, mass_error_lower = Planet.reference_gravity2mass(\n",
    "    reference_gravity=planet.reference_gravity,\n",
    "    radius=planet.radius,\n",
    "    reference_gravity_error_upper=planet.reference_gravity_error_upper,\n",
    "    reference_gravity_error_lower=planet.reference_gravity_error_lower,\n",
    "    radius_error_upper=planet.radius_error_upper,\n",
    "    radius_error_lower=planet.radius_error_lower\n",
    ")\n",
    "\n",
    "print(f\"mass: {mass / cst.m_jup:.2f} (+ {mass_error_upper / cst.m_jup:.2f} - {np.abs(mass_error_lower) / cst.m_jup:.2f}) M_Jup\")"
   ]
  },
  {
   "cell_type": "markdown",
   "id": "2f0b7b78",
   "metadata": {},
   "source": [
    "## Loading and saving\n",
    "By default, the `Planet` data are stored in a HDF5 file within your \"input_data\" folder, in the planet_data directory, and the data come from the NASA Exoplanet Archive.\n",
    "However, if you want to customize the data of your `Planet` (or create one from scratch), you can use the `Planet.load()` and `Planet.save()` functions. For example:"
   ]
  },
  {
   "cell_type": "code",
   "execution_count": 20,
   "id": "05b9852a",
   "metadata": {},
   "outputs": [
    {
     "name": "stdout",
     "output_type": "stream",
     "text": [
      "My Planet radius: 1.50 R_earth\n"
     ]
    }
   ],
   "source": [
    "import copy\n",
    "\n",
    "my_planet = copy.deepcopy(planet)\n",
    "my_planet.radius = 1.5 * cst.r_earth\n",
    "my_planet.name='My Planet'\n",
    "\n",
    "my_planet.save(filename='my_planet')  # this will save the Planet under my_planet.h5, in the working directory\n",
    "my_planet.load(name='my_planet', filename='my_planet')\n",
    "\n",
    "print(f\"My Planet radius: {my_planet.radius / cst.r_earth:.2f} R_earth\")"
   ]
  }
 ],
 "metadata": {
  "kernelspec": {
   "display_name": "Python 3 (ipykernel)",
   "language": "python",
   "name": "python3"
  },
  "language_info": {
   "codemirror_mode": {
    "name": "ipython",
    "version": 3
   },
   "file_extension": ".py",
   "mimetype": "text/x-python",
   "name": "python",
   "nbconvert_exporter": "python",
   "pygments_lexer": "ipython3",
   "version": "3.12.1"
  }
 },
 "nbformat": 4,
 "nbformat_minor": 5
}
