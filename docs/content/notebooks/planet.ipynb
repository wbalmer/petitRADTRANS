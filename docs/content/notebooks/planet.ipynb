{
 "cells": [
  {
   "cell_type": "markdown",
   "id": "c231a474",
   "metadata": {},
   "source": [
    "# Using Planet\n",
    "## Basic usage\n",
    "\n",
    "With petitRADTRANS, you can use the `Planet` object to easily access planetary parameters from the [NASA Exoplanet Archive](https://exoplanetarchive.ipac.caltech.edu/index.html). To use it, you first need to import it:"
   ]
  },
  {
   "cell_type": "code",
   "execution_count": 1,
   "id": "165025db",
   "metadata": {},
   "outputs": [],
   "source": [
    "from petitRADTRANS.containers.planet import Planet"
   ]
  },
  {
   "cell_type": "markdown",
   "id": "542d2767",
   "metadata": {},
   "source": [
    "A `Planet` instance can be created by simply giving the name of the planet."
   ]
  },
  {
   "cell_type": "code",
   "execution_count": 2,
   "id": "a5e5b257",
   "metadata": {},
   "outputs": [],
   "source": [
    "planet = Planet.get('HD 209458 b')  # internet required the first time"
   ]
  },
  {
   "cell_type": "markdown",
   "id": "282b2013",
   "metadata": {},
   "source": [
    "<div class=\"alert alert-warning\">\n",
    "\n",
    "Be careful to enter the **exact** name of your planet, inluding case and spaces.\n",
    "</div>\n",
    "    \n",
    "You may see a bunch of warnings the first time you create a `Planet`. You can safely ignore them. This is simply an issue with the units used by the NASA Exoplanet Archive, which are not implemented in the module `astropy`. petitRADTRANS takes care of that issue.\n",
    "\n",
    "All of the data has been downloaded from the NASA Exoplanet Archive! \n",
    "\n",
    "<div class=\"alert alert-warning\">\n",
    "\n",
    "- The attribute names used for `Planet` are sligthly different from the names used by the NASA Exoplanet Archive.\n",
    "    \n",
    "- The value of each attribute is taken from **the field with the smallest errorbars**, so different parameter may come from different sources. This is similar, but not identical, to the [NASA Exoplanet Archive Composite Planet Data Table](https://exoplanetarchive.ipac.caltech.edu/docs/pscp_about.html).\n",
    "</div>\n",
    "\n",
    "<div class=\"alert alert-block alert-info\">\n",
    "\n",
    "- All values are given in CGS units.\n",
    "- The information are stored within your [\"input_data\"](https://petitradtrans.readthedocs.io/en/latest/content/installation.html#pre-installation-download-the-opacity-data) folder, in the planet_data directory.\n",
    "-  The next time you need to use a `Planet` with the same name, no download will be necessary.\n",
    "</div>"
   ]
  },
  {
   "cell_type": "markdown",
   "id": "e4668265",
   "metadata": {},
   "source": [
    "You can use `planet.__dict__` to check all the available attributes:"
   ]
  },
  {
   "cell_type": "code",
   "execution_count": 3,
   "id": "11315b10",
   "metadata": {},
   "outputs": [
    {
     "name": "stdout",
     "output_type": "stream",
     "text": [
      "name\n",
      "mass\n",
      "mass_error_upper\n",
      "mass_error_lower\n",
      "radius\n",
      "radius_error_upper\n",
      "radius_error_lower\n",
      "orbit_semi_major_axis\n",
      "orbit_semi_major_axis_error_upper\n",
      "orbit_semi_major_axis_error_lower\n",
      "orbital_eccentricity\n",
      "orbital_eccentricity_error_upper\n",
      "orbital_eccentricity_error_lower\n",
      "orbital_inclination\n",
      "orbital_inclination_error_upper\n",
      "orbital_inclination_error_lower\n",
      "orbital_period\n",
      "orbital_period_error_upper\n",
      "orbital_period_error_lower\n",
      "argument_of_periastron\n",
      "argument_of_periastron_error_upper\n",
      "argument_of_periastron_error_lower\n",
      "epoch_of_periastron\n",
      "epoch_of_periastron_error_upper\n",
      "epoch_of_periastron_error_lower\n",
      "ra\n",
      "dec\n",
      "x\n",
      "y\n",
      "z\n",
      "reference_pressure\n",
      "density\n",
      "density_error_upper\n",
      "density_error_lower\n",
      "surface_gravity\n",
      "surface_gravity_error_upper\n",
      "surface_gravity_error_lower\n",
      "equilibrium_temperature\n",
      "equilibrium_temperature_error_upper\n",
      "equilibrium_temperature_error_lower\n",
      "insolation_flux\n",
      "insolation_flux_error_upper\n",
      "insolation_flux_error_lower\n",
      "bond_albedo\n",
      "bond_albedo_error_upper\n",
      "bond_albedo_error_lower\n",
      "transit_depth\n",
      "transit_depth_error_upper\n",
      "transit_depth_error_lower\n",
      "transit_midpoint_time\n",
      "transit_midpoint_time_error_upper\n",
      "transit_midpoint_time_error_lower\n",
      "transit_duration\n",
      "transit_duration_error_upper\n",
      "transit_duration_error_lower\n",
      "projected_obliquity\n",
      "projected_obliquity_error_upper\n",
      "projected_obliquity_error_lower\n",
      "true_obliquity\n",
      "true_obliquity_error_upper\n",
      "true_obliquity_error_lower\n",
      "radial_velocity_amplitude\n",
      "radial_velocity_amplitude_error_upper\n",
      "radial_velocity_amplitude_error_lower\n",
      "planet_stellar_radius_ratio\n",
      "planet_stellar_radius_ratio_error_upper\n",
      "planet_stellar_radius_ratio_error_lower\n",
      "semi_major_axis_stellar_radius_ratio\n",
      "semi_major_axis_stellar_radius_ratio_error_upper\n",
      "semi_major_axis_stellar_radius_ratio_error_lower\n",
      "reference\n",
      "discovery_year\n",
      "discovery_method\n",
      "discovery_reference\n",
      "confirmation_status\n",
      "host_name\n",
      "star_spectral_type\n",
      "star_mass\n",
      "star_mass_error_upper\n",
      "star_mass_error_lower\n",
      "star_radius\n",
      "star_radius_error_upper\n",
      "star_radius_error_lower\n",
      "star_age\n",
      "star_age_error_upper\n",
      "star_age_error_lower\n",
      "star_metallicity\n",
      "star_metallicity_error_upper\n",
      "star_metallicity_error_lower\n",
      "star_effective_temperature\n",
      "star_effective_temperature_error_upper\n",
      "star_effective_temperature_error_lower\n",
      "star_luminosity\n",
      "star_luminosity_error_upper\n",
      "star_luminosity_error_lower\n",
      "star_rotational_period\n",
      "star_rotational_period_error_upper\n",
      "star_rotational_period_error_lower\n",
      "star_radial_velocity\n",
      "star_radial_velocity_error_upper\n",
      "star_radial_velocity_error_lower\n",
      "star_rotational_velocity\n",
      "star_rotational_velocity_error_upper\n",
      "star_rotational_velocity_error_lower\n",
      "star_density\n",
      "star_density_error_upper\n",
      "star_density_error_lower\n",
      "star_surface_gravity\n",
      "star_surface_gravity_error_upper\n",
      "star_surface_gravity_error_lower\n",
      "star_reference\n",
      "system_star_number\n",
      "system_planet_number\n",
      "system_moon_number\n",
      "system_distance\n",
      "system_distance_error_upper\n",
      "system_distance_error_lower\n",
      "system_apparent_magnitude_v\n",
      "system_apparent_magnitude_v_error_upper\n",
      "system_apparent_magnitude_v_error_lower\n",
      "system_apparent_magnitude_j\n",
      "system_apparent_magnitude_j_error_upper\n",
      "system_apparent_magnitude_j_error_lower\n",
      "system_apparent_magnitude_k\n",
      "system_apparent_magnitude_k_error_upper\n",
      "system_apparent_magnitude_k_error_lower\n",
      "system_proper_motion\n",
      "system_proper_motion_error_upper\n",
      "system_proper_motion_error_lower\n",
      "system_proper_motion_ra\n",
      "system_proper_motion_ra_error_upper\n",
      "system_proper_motion_ra_error_lower\n",
      "system_proper_motion_dec\n",
      "system_proper_motion_dec_error_upper\n",
      "system_proper_motion_dec_error_lower\n",
      "units\n"
     ]
    }
   ],
   "source": [
    "for key in planet.__dict__:\n",
    "    print(f\"{key}\")"
   ]
  },
  {
   "cell_type": "markdown",
   "id": "e922cd4e",
   "metadata": {},
   "source": [
    "<div class=\"alert alert-block alert-info\">\n",
    "\n",
    "A description of these attributes is available on the [NASA Exoplanet Archive website](https://exoplanetarchive.ipac.caltech.edu/docs/API_PS_columns.html). Rememeber that for `Planet`, the attriubtes names are different and the units has been converted to CGS.\n",
    "</div>"
   ]
  },
  {
   "cell_type": "markdown",
   "id": "3a9dc585",
   "metadata": {},
   "source": [
    "To get a value and its error bars, you can use, for example:"
   ]
  },
  {
   "cell_type": "code",
   "execution_count": 4,
   "id": "ec7c95f3",
   "metadata": {},
   "outputs": [
    {
     "name": "stdout",
     "output_type": "stream",
     "text": [
      "mass: 0.68 (+ 0.02 - 0.01) M_Jup\n"
     ]
    }
   ],
   "source": [
    "import numpy as np\n",
    "from petitRADTRANS import nat_cst as nc\n",
    "\n",
    "print(f\"mass: {planet.mass / nc.m_jup:.2f} (+ {planet.mass_error_upper / nc.m_jup:.2f} - {np.abs(planet.mass_error_lower) / nc.m_jup:.2f}) M_Jup\")"
   ]
  },
  {
   "cell_type": "markdown",
   "id": "6e4e391f",
   "metadata": {},
   "source": [
    "## Useful functions for observations from Earth\n",
    "The `Planet` object provides functions to estimate useful parameters for observations from Earth:\n",
    "- `Planet.get_airmass()`: to calculate the [airmass](https://en.wikipedia.org/wiki/Air_mass_(astronomy)),\n",
    "- `Planet.get_barycentric_velocities()`: to calculate the the [barycentric velocity](https://docs.astropy.org/en/stable/coordinates/velocities.html#radial-velocity-corrections) relative to the planet.\n",
    "\n",
    "These functions make use of the [`astropy.coordinates`](https://docs.astropy.org/en/stable/coordinates/index.html) module.\n",
    "\n",
    "For example:"
   ]
  },
  {
   "cell_type": "code",
   "execution_count": 5,
   "id": "0566b134",
   "metadata": {},
   "outputs": [
    {
     "name": "stdout",
     "output_type": "stream",
     "text": [
      "airmass: 2.02\n",
      "v_bary: 23.18 km.s-1\n"
     ]
    }
   ],
   "source": [
    "observing_time = 60068.37965278  # (MJD)\n",
    "\n",
    "# Get airmass\n",
    "airmass = Planet.get_airmass(\n",
    "    ra=planet.ra,\n",
    "    dec=planet.dec,\n",
    "    time=observing_time,\n",
    "    site_name='paranal observatory',\n",
    "    time_format='mjd'\n",
    ")\n",
    "\n",
    "print(f\"airmass: {airmass:.2f}\")\n",
    "\n",
    "# Get barycentric velocity\n",
    "v_bary = Planet.get_barycentric_velocities(\n",
    "    ra=planet.ra,\n",
    "    dec=planet.dec,\n",
    "    time=observing_time,\n",
    "    site_name='paranal observatory',\n",
    "    time_format='mjd'\n",
    ") * 1e-3  # m.s-1 to km.s-1\n",
    "\n",
    "print(f\"v_bary: {v_bary:.2f} km.s-1\")"
   ]
  },
  {
   "cell_type": "markdown",
   "id": "4db1349b",
   "metadata": {},
   "source": [
    "## Other useful functions\n",
    "### Orbital phases\n",
    "To get the orbital phases of an orbiting `Planet`, assuming low eccentricity, you can use `Planet.get_orbital_phases()`:"
   ]
  },
  {
   "cell_type": "code",
   "execution_count": 6,
   "id": "56933190",
   "metadata": {},
   "outputs": [
    {
     "data": {
      "text/plain": [
       "Text(0, 0.5, 'Orbital phase')"
      ]
     },
     "execution_count": 6,
     "metadata": {},
     "output_type": "execute_result"
    },
    {
     "data": {
      "image/png": "[encoded data removed]",
      "text/plain": [
       "<Figure size 432x288 with 1 Axes>"
      ]
     },
     "metadata": {
      "needs_background": "light"
     },
     "output_type": "display_data"
    }
   ],
   "source": [
    "import matplotlib.pyplot as plt\n",
    "\n",
    "times_to_mid_transit = np.linspace(-planet.orbital_period * 1.15, planet.orbital_period * 1.15)  # (s)\n",
    "\n",
    "orbital_phases = Planet.get_orbital_phases(\n",
    "    phase_start=0.0,  # start at mid-transit since the times are relative to mid-transit\n",
    "    orbital_period=planet.orbital_period,\n",
    "    times=times_to_mid_transit\n",
    ")\n",
    "\n",
    "plt.plot(times_to_mid_transit / planet.orbital_period, orbital_phases)\n",
    "plt.xlabel(r'Time to $T_0$ ($P$)')\n",
    "plt.ylabel('Orbital phase')"
   ]
  },
  {
   "cell_type": "markdown",
   "id": "a984c92d",
   "metadata": {},
   "source": [
    "### Equilibrium temperature\n",
    "If not provided by the NASA Exoplanet Archive, the equilibrium temperature of an orbiting `Planet`, you can use `Planet.calculate_planetary_equilibrium_temperature()`:"
   ]
  },
  {
   "cell_type": "code",
   "execution_count": 7,
   "id": "ec8bbc09",
   "metadata": {},
   "outputs": [
    {
     "name": "stdout",
     "output_type": "stream",
     "text": [
      "T_eq (calculated): 1458.07 (+ 9.69 - 9.91) K\n",
      "T_eq (from archive): 1459.00 (+ 12.00 - 12.00) K\n"
     ]
    }
   ],
   "source": [
    "equilibrium_temperature, equilibrium_temperature_error_upper, equilibrium_temperature_error_lower = planet.calculate_planetary_equilibrium_temperature()\n",
    "\n",
    "print(f\"T_eq (calculated): {equilibrium_temperature:.2f} (+ {equilibrium_temperature_error_upper:.2f} - {np.abs(equilibrium_temperature_error_lower):.2f}) K\")\n",
    "print(f\"T_eq (from archive): {planet.equilibrium_temperature:.2f} (+ {planet.equilibrium_temperature_error_upper:.2f} - {np.abs(planet.equilibrium_temperature_error_lower):.2f}) K\")"
   ]
  },
  {
   "cell_type": "markdown",
   "id": "167d3282",
   "metadata": {},
   "source": [
    "<div class=\"alert alert-block alert-info\">\n",
    "    \n",
    "The errorbars are calculated using the `petitRADTRANS.calculate_uncertainties()` function, using the uncertainties on the star effective temperature, the star radius, and the orbit semi-major axis.\n",
    "</div>"
   ]
  },
  {
   "cell_type": "markdown",
   "id": "e475a573",
   "metadata": {},
   "source": [
    "### Mass, radius, surface gravity\n",
    "If not provided by the NASA Exoplanet Archive, the mass, radius, and surface gravity (and associated errorbars) can be calculated using:\n",
    "- `Planet.mass2surface_gravity`\n",
    "- `Planet.surface_gravity2radius`\n",
    "- `Planet.surface_gravity2mass`\n",
    "\n",
    "For example:"
   ]
  },
  {
   "cell_type": "code",
   "execution_count": 8,
   "id": "87b45726",
   "metadata": {},
   "outputs": [
    {
     "name": "stdout",
     "output_type": "stream",
     "text": [
      "mass: 0.68 (+ 0.03 - 0.03) M_Jup\n"
     ]
    }
   ],
   "source": [
    "mass, mass_error_upper, mass_error_lower = Planet.surface_gravity2mass(\n",
    "    surface_gravity=planet.surface_gravity,\n",
    "    radius=planet.radius,\n",
    "    surface_gravity_error_upper=planet.surface_gravity_error_upper,\n",
    "    surface_gravity_error_lower=planet.surface_gravity_error_lower,\n",
    "    radius_error_upper=planet.radius_error_upper,\n",
    "    radius_error_lower=planet.radius_error_lower\n",
    ")\n",
    "\n",
    "print(f\"mass: {mass / nc.m_jup:.2f} (+ {mass_error_upper / nc.m_jup:.2f} - {np.abs(mass_error_lower) / nc.m_jup:.2f}) M_Jup\")"
   ]
  },
  {
   "cell_type": "markdown",
   "id": "2f0b7b78",
   "metadata": {},
   "source": [
    "## Loading and saving\n",
    "By default, the `Planet` data are stored in a HDF5 file within your \"input_data\" folder, in the planet_data directory, and the data come from the NASA Exoplanet Archive.\n",
    "However, if you want to customize the data of your `Planet` (or create one from scratch), you can use the `Planet.load()` and `Planet.save()` functions. For example:"
   ]
  },
  {
   "cell_type": "code",
   "execution_count": 9,
   "id": "05b9852a",
   "metadata": {},
   "outputs": [
    {
     "name": "stdout",
     "output_type": "stream",
     "text": [
      "radius: 1.50 R_earth\n"
     ]
    }
   ],
   "source": [
    "import copy\n",
    "\n",
    "my_planet = copy.deepcopy(planet)\n",
    "my_planet.radius = 1.5 * nc.r_earth\n",
    "my_planet.name='My Planet'\n",
    "\n",
    "my_planet.save(filename='my_planet')  # this will save the Planet under my_planet.h5, in the working directory\n",
    "my_planet.load(name='my_planet', filename='my_planet')\n",
    "\n",
    "print(f\"radius: {my_planet.radius / nc.r_earth:.2f} R_earth\")"
   ]
  }
 ],
 "metadata": {
  "kernelspec": {
   "display_name": "Python 3 (ipykernel)",
   "language": "python",
   "name": "python3"
  },
  "language_info": {
   "codemirror_mode": {
    "name": "ipython",
    "version": 3
   },
   "file_extension": ".py",
   "mimetype": "text/x-python",
   "name": "python",
   "nbconvert_exporter": "python",
   "pygments_lexer": "ipython3",
   "version": "3.9.2"
  }
 },
 "nbformat": 4,
 "nbformat_minor": 5
}
