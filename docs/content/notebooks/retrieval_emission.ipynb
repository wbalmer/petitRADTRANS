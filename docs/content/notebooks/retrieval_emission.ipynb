{
 "cells": [
  {
   "cell_type": "markdown",
   "metadata": {},
   "source": [
    "# Retrievals: Emission Spectra Retrieval\n",
    "\n",
    "Written by [Evert Nasedkin](mailto:nasedkinevert@gmail.com?subject=[petitRADTRANS]%20Retrievals).\n",
    "Please cite pRT's retrieval package [(Nasedkin et al. 2024)](https://ui.adsabs.harvard.edu/abs/2024JOSS....9.5875N/abstract) in addition to pRT [(Mollière et al. 2019)](https://ui.adsabs.harvard.edu/abs/2019A%26A...627A..67M/abstract) if you make use of the retrieval package for your work.\n",
    "\n",
    "This retrieval is based on the forward model used in [Mollière et al. (2020)](https://ui.adsabs.harvard.edu/abs/2020A%26A...640A.131M/abstract) for HR8799e, and shows a more realistic example of how to set up a retrieval.\n",
    "Emission spectra retrievals, particularly when multiple datasets are included and scattering is taken into account, can take a lot of computational resources to run.\n",
    "**Therefore, this notebook outlines the setup for such a retrieval, but we advise only running this retrieval on a cluster** (it can take multiple days on hundreds of cores).\n",
    "\n",
    "For this example, the module ``chemistry.pre_calculated_chemistry `` is used to solve for disequilibrium chemistry (actually equilibrium chemistry with a simple quenching treatment), and the ``chemistry.clouds`` module is used for condensation. Note that you can import other models from [petitRADTRANS/retrieval/models.py](https://gitlab.com/mauricemolli/petitRADTRANS/-/blob/master/petitRADTRANS/retrieval/models.py), see the [API documentation](../../autoapi/petitRADTRANS/retrieval/models/index.html). This file is included in the pRT package folder. Alternatively you can access them through git (just click the link). Of course you can also write your own model. For this we recommend using existing models as template. Remember to respect the input and output format of the model functions described in [\"Basic Retrieval Tutorial\"](retrieval_basic.html#Model-Functions)\n",
    "\n",
    "The model here uses a simple adaptive mesh refinement (AMR) algorithm to improve the pressure resolution around the location of the cloud bases."
   ]
  },
  {
   "cell_type": "markdown",
   "metadata": {},
   "source": [
    "## Getting started\n",
    "\n",
    "**Please make sure to have worked through the [\"Basic Retrieval Tutorial\"](retrieval_basic.html) before looking at the material below.**\n",
    "\n",
    "In this tutorial, we will outline the process of setting up a RetrievalConfig object, which is the class used to set up a pRT retrieval.\n",
    "The basic process is always to set up the configuration, and then pass it to the Retrieval class to run the retrieval using, for example, pyMultiNest.\n",
    "Like mentioned in the [\"Basic Retrieval Tutorial\"](retrieval_basic.html) several standard plotting outputs will also be produced by the retrieval class.\n",
    "Most of the classes and functions used in this tutorial have more advanced features than what will be explained here, so it's highly recommended to take a look at the code and API documentation.\n",
    "There should be enough flexibility built in to cover most typical retrieval studies, but if you have feature requests please get in touch, or open an issue on [gitlab](https://gitlab.com/mauricemolli/petitRADTRANS.git)."
   ]
  },
  {
   "cell_type": "code",
   "execution_count": 1,
   "metadata": {},
   "outputs": [],
   "source": [
    "# Let's start by importing everything we need.\n",
    "import os\n",
    "# To not have numpy start parallelizing on its own\n",
    "os.environ[\"OMP_NUM_THREADS\"] = \"1\"\n",
    "\n",
    "import numpy as np\n",
    "import matplotlib.pyplot as plt\n",
    "\n",
    "import petitRADTRANS as prt\n",
    "from petitRADTRANS import physical_constants as cst\n",
    "\n",
    "# Import the class used to set up the retrieval.\n",
    "from petitRADTRANS.retrieval import Retrieval,RetrievalConfig\n",
    "# Import Prior functions, if necessary.\n",
    "from petitRADTRANS.retrieval.utils import gaussian_prior\n",
    "# Import atmospheric model function\n",
    "from petitRADTRANS.retrieval.models import emission_model_diseq"
   ]
  },
  {
   "cell_type": "code",
   "execution_count": 2,
   "metadata": {},
   "outputs": [],
   "source": [
    "##########################\n",
    "# Define the pRT run setup\n",
    "##########################\n",
    "retrieval_config = RetrievalConfig(retrieval_name=\"HR8799e_example\", # Give a useful name for your retrieval \n",
    "                                run_mode=\"retrieve\", # 'retrieve' to run, or 'evaluate' to make plots\n",
    "                                amr=True,             # Adaptive mesh refinement, slower if True\n",
    "                                scattering_in_emission=True)      # Add scattering for emission spectra clouds"
   ]
  },
  {
   "cell_type": "markdown",
   "metadata": {},
   "source": [
    "For this example we include the GRAVITY data as published in Mollière et al. (2020). To reproduce the published results, please also include the archival SPHERE and GPI data from [Zurlo et al. (2015)](https://www.aanda.org/articles/aa/full_html/2016/03/aa26835-15/aa26835-15.html) and [Greenbaum et al. (2016)](https://iopscience.iop.org/article/10.3847/1538-3881/aabcb8)."
   ]
  },
  {
   "cell_type": "code",
   "execution_count": null,
   "metadata": {
    "pycharm": {
     "is_executing": true
    }
   },
   "outputs": [],
   "source": [
    "##################\n",
    "# Read in Data\n",
    "##################\n",
    "\n",
    "# Here we import petitRADTRANS to find the path of the example files on your machine.\n",
    "# In general this is not required, you just put the files in the folder that you are running\n",
    "# Your script in, for example.\n",
    "import petitRADTRANS # need to get the name for the example data\n",
    "path_to_data = \"\"\n",
    "path_to_data = petitRADTRANS.__file__.split('__init__.py')[0] # Default location for the example\n",
    "\n",
    "retrieval_config.add_data('GRAVITY',\n",
    "                       f\"{path_to_data}retrieval/examples/emission/observations/HR8799e_Spectra.fits\",\n",
    "                       data_resolution = 500,\n",
    "                       model_resolution = 1000,\n",
    "                       model_generating_function = emission_model_diseq)\n",
    "\n",
    "# Note that in Mollière et al. (2020), additional data sets from SPHERE and GPI were used"
   ]
  },
  {
   "cell_type": "markdown",
   "metadata": {},
   "source": [
    "## Photometric data"
   ]
  },
  {
   "cell_type": "markdown",
   "metadata": {},
   "source": [
    "If we want to add photometry, we can do that as well! The photometry file should have the format:\n",
    "\n",
    "`# Name, lower wavelength edge [um], upper wavelength edge [um], flux density [W/m2/micron], flux error [W/m2/micron]`\n",
    "\n",
    "You are required to provide a model function for calculating the spectrum, as with spectral data, but also a photometric transformation function, which is used to convert the model spectrum into synthetic photometry. This would typically make use of the transmission function for a particular filter. We recommend the use of the `species` package (https://species.readthedocs.io/), in particular the `SyntheticPhotometry` module to provide these functions. If no function is provided, the RetrievalConfig will attempt to import `species` to use this module, using the `name` provided as the filter name.\n",
    "\n",
    "If you are using transmission spectra, your photometric transformation function should model the difference between the clear and occulted stellar spectrum, returning the difference in (planet radius/stellar radius)^2."
   ]
  },
  {
   "cell_type": "code",
   "execution_count": null,
   "metadata": {},
   "outputs": [],
   "source": [
    "retrieval_config.add_photometry(path_to_data + 'retrieval/examples/emission/observations/hr8799e_photometry.txt',\n",
    "                             emission_model_diseq,\n",
    "                             model_resolution = 40)"
   ]
  },
  {
   "cell_type": "markdown",
   "metadata": {},
   "source": [
    "## Parameters and Priors"
   ]
  },
  {
   "cell_type": "markdown",
   "metadata": {},
   "source": [
    "Here we add all of the parameters used in the retrieval."
   ]
  },
  {
   "cell_type": "code",
   "execution_count": null,
   "metadata": {},
   "outputs": [],
   "source": [
    "#################################################\n",
    "# Add parameters, and priors for free parameters.\n",
    "#################################################\n",
    "\n",
    "# This run uses the model of Molliere (2020) for HR8799e\n",
    "# The lambda function provide uniform priors.\n",
    "\n",
    "# Distance to the planet in cm\n",
    "retrieval_config.add_parameter(name = 'D_pl', free = False, value = 41.2925*nc.pc)\n",
    "\n",
    "# Log of the surface gravity in cgs units.\n",
    "retrieval_config.add_parameter('log_g',True, \n",
    "                            transform_prior_cube_coordinate = \\\n",
    "                            lambda x : 2.+3.5*x)\n",
    "\n",
    "# Planet radius in cm\n",
    "retrieval_config.add_parameter('planet_radius', True, \\\n",
    "                            transform_prior_cube_coordinate = \\\n",
    "                            lambda x : ( 0.7+1.3*x)*cst.r_jup_mean)\n",
    "\n",
    "# Temperature in Kelvin\n",
    "retrieval_config.add_parameter('T_int', True, \\\n",
    "                            transform_prior_cube_coordinate = \\\n",
    "                            lambda x : 300.+2000.*x,\n",
    "                            value=0.0)\n",
    "\n",
    "# Spline temperature structure parameters. T1 < T2 < T3\n",
    "# As these priors depend on each other, they are implemented in the model function\n",
    "retrieval_config.add_parameter('T3', True, \\\n",
    "                            transform_prior_cube_coordinate = \\\n",
    "                            lambda x : x,\n",
    "                            value=0.0)\n",
    "retrieval_config.add_parameter('T2', True, \\\n",
    "                            transform_prior_cube_coordinate = \\\n",
    "                            lambda x : x,\n",
    "                            value=0.0)\n",
    "retrieval_config.add_parameter('T1', True, \\\n",
    "                            transform_prior_cube_coordinate = \\\n",
    "                            lambda x : x)\n",
    "# Optical depth model\n",
    "# power law index in tau = delta * press_cgs**alpha\n",
    "retrieval_config.add_parameter('alpha', True, \\\n",
    "                            transform_prior_cube_coordinate = \\\n",
    "                            lambda x :1.0+x)\n",
    "# proportionality factor in tau = delta * press_cgs**alpha\n",
    "retrieval_config.add_parameter('log_delta', True, \\\n",
    "                            transform_prior_cube_coordinate = \\\n",
    "                            lambda x : x) \n",
    "# Chemistry\n",
    "# A 'free retrieval' would have each line species as a parameter\n",
    "# Using a (dis)equilibrium model, we only supply bulk parameters.\n",
    "# Carbon quench pressure\n",
    "retrieval_config.add_parameter('log_pquench',True,\\\n",
    "                            transform_prior_cube_coordinate = \\\n",
    "                            lambda x : -6.0+9.0*x)\n",
    "# Metallicity [Fe/H]\n",
    "retrieval_config.add_parameter('Fe/H',True,\\\n",
    "                            transform_prior_cube_coordinate = \\\n",
    "                            lambda x : -1.5+3.0*x)\n",
    "# C/O ratio\n",
    "retrieval_config.add_parameter('C/O',True,\\\n",
    "                            transform_prior_cube_coordinate = \\\n",
    "                            lambda x : 0.1+1.5*x)\n",
    "# Clouds\n",
    "# Based on an Ackermann-Marley (2001) cloud model\n",
    "# Width of particle size distribution\n",
    "retrieval_config.add_parameter('sigma_lnorm', True,\n",
    "                            transform_prior_cube_coordinate = \\\n",
    "                            lambda x : 1.05 + 1.95*x) \n",
    "# Vertical mixing parameters\n",
    "retrieval_config.add_parameter('log_kzz',True,\\\n",
    "                            transform_prior_cube_coordinate = \\\n",
    "                            lambda x : 5.0+8.*x) \n",
    "# Sedimentation parameter\n",
    "retrieval_config.add_parameter('fsed',True,\\\n",
    "                            transform_prior_cube_coordinate = \\\n",
    "                            lambda x : 1.0 + 10.0*x)"
   ]
  },
  {
   "cell_type": "code",
   "execution_count": null,
   "metadata": {},
   "outputs": [],
   "source": [
    "#######################################################\n",
    "# Define opacity species to be included\n",
    "#######################################################\n",
    "retrieval_config.set_rayleigh_species(['H2', 'He'])\n",
    "retrieval_config.set_continuum_opacities(['H2-H2', 'H2-He'])\n",
    "retrieval_config.set_line_species([\n",
    "    'H2O__POKAZATEL', \n",
    "    'CO-NatAbund', \n",
    "    'CH4', \n",
    "    'CO2', \n",
    "    'HCN', \n",
    "    'FeH', \n",
    "    'H2S', \n",
    "    'NH3', \n",
    "    'PH3', \n",
    "    'Na', \n",
    "    'K', \n",
    "    'TiO', \n",
    "    'VO',\n",
    "    'SiO'],\n",
    "    eq = True\n",
    "    )\n",
    "retrieval_config.add_cloud_species('Fe(s)_crystalline__DHS', eq = True, abund_lim = (-3.5,1.0))\n",
    "retrieval_config.add_cloud_species('MgSiO3(s)_crystalline__DHS', eq = True, abund_lim = (-3.5,1.0))"
   ]
  },
  {
   "cell_type": "code",
   "execution_count": null,
   "metadata": {},
   "outputs": [],
   "source": [
    "retrieval = Retrieval(retrieval_config,\n",
    "                      output_dir = \"\",\n",
    "                      sample_spec = False)"
   ]
  },
  {
   "cell_type": "code",
   "execution_count": null,
   "metadata": {},
   "outputs": [],
   "source": [
    "# Before we run the retrieval, let's set up plotting.\n",
    "\n",
    "##################################################################\n",
    "# Define what to put into corner plot if run_mode == 'evaluate'\n",
    "##################################################################\n",
    "retrieval_config.parameters['planet_radius'].plot_in_corner = True\n",
    "retrieval_config.parameters['planet_radius'].corner_label = r'$R_{\\rm P}$ ($\\rm R_{Jup}$)'\n",
    "retrieval_config.parameters['planet_radius'].corner_transform = lambda x : x/nc.r_jup_mean\n",
    "retrieval_config.parameters['log_g'].plot_in_corner = True\n",
    "retrieval_config.parameters['log_g'].corner_ranges = [2., 5.]\n",
    "retrieval_config.parameters['log_g'].corner_label = \"log g\"\n",
    "retrieval_config.parameters['fsed'].plot_in_corner = True\n",
    "retrieval_config.parameters['log_kzz'].plot_in_corner = True\n",
    "retrieval_config.parameters['log_kzz'].corner_label = \"log Kzz\"\n",
    "retrieval_config.parameters['C/O'].plot_in_corner = True\n",
    "retrieval_config.parameters['Fe/H'].plot_in_corner = True\n",
    "retrieval_config.parameters['log_pquench'].plot_in_corner = True\n",
    "retrieval_config.parameters['log_pquench'].corner_label = \"log pquench\"\n",
    "\n",
    "for spec in retrieval_config.cloud_species:\n",
    "    cname = spec.split('_')[0]\n",
    "    retrieval_config.parameters['log_X_cb_'+cname].plot_in_corner = True\n",
    "    retrieval_config.parameters['log_X_cb_'+cname].corner_label = cname\n",
    "\n",
    "##################################################################\n",
    "# Define axis properties of spectral plot if run_mode == 'evaluate'\n",
    "##################################################################\n",
    "retrieval_config.plot_kwargs[\"spec_xlabel\"] = 'Wavelength [micron]'\n",
    "\n",
    "retrieval_config.plot_kwargs[\"spec_ylabel\"] = \"Flux [W/m2/micron]\"\n",
    "retrieval_config.plot_kwargs[\"y_axis_scaling\"] = 1.0\n",
    "retrieval_config.plot_kwargs[\"xscale\"] = 'log'\n",
    "retrieval_config.plot_kwargs[\"yscale\"] = 'linear'\n",
    "retrieval_config.plot_kwargs[\"resolution\"] = 100.# Maximum resolution, will rebin the data\n",
    "retrieval_config.plot_kwargs[\"nsample\"] = 100 # If we want a plot with many sampled spectra\n",
    "\n",
    "##################################################################\n",
    "# Define from which observation object to take P-T\n",
    "# in evaluation mode (if run_mode == 'evaluate'),\n",
    "# add PT-envelope plotting options\n",
    "##################################################################\n",
    "retrieval_config.plot_kwargs[\"take_PTs_from\"] = 'GRAVITY'\n",
    "retrieval_config.plot_kwargs[\"temp_limits\"] = [150, 3000]\n",
    "retrieval_config.plot_kwargs[\"press_limits\"] = [1e2, 1e-5]"
   ]
  },
  {
   "cell_type": "code",
   "execution_count": null,
   "metadata": {},
   "outputs": [],
   "source": [
    "retrieval = Retrieval(retrieval_config,\n",
    "                      output_dir = \"\",\n",
    "                      sample_spec = False)\n",
    "\n",
    "retrieval.run(n_live_points = 2000,\n",
    "      sampling_efficiency=0.05,\n",
    "      const_efficiency_mode=True,\n",
    "      resume = True)"
   ]
  },
  {
   "cell_type": "markdown",
   "metadata": {},
   "source": [
    "Once the retrieval is complete, the easiest way to generate standard output plots is to use the `plot_all` function."
   ]
  },
  {
   "cell_type": "code",
   "execution_count": null,
   "metadata": {},
   "outputs": [],
   "source": [
    "retrieval.plot_all(contribution = True)"
   ]
  },
  {
   "cell_type": "markdown",
   "metadata": {},
   "source": [
    "**Contact**\n",
    "\n",
    "If you need any additional help, don't hesitate to contact [Evert Nasedkin](mailto:nasedkinevert@gmail.com?subject=[petitRADTRANS]%20Retrievals)."
   ]
  }
 ],
 "metadata": {
  "kernelspec": {
   "display_name": "Python 3 (ipykernel)",
   "language": "python",
   "name": "python3"
  },
  "language_info": {
   "codemirror_mode": {
    "name": "ipython",
    "version": 3
   },
   "file_extension": ".py",
   "mimetype": "text/x-python",
   "name": "python",
   "nbconvert_exporter": "python",
   "pygments_lexer": "ipython3",
   "version": "3.11.2"
  },
  "pycharm": {
   "stem_cell": {
    "cell_type": "raw",
    "metadata": {
     "collapsed": false
    },
    "source": []
   }
  },
  "vscode": {
   "interpreter": {
    "hash": "207b56136aaee7ec9eed3aa3bd9bf42bb51cfe74d6567821df16aa3ffeea32bf"
   }
  }
 },
 "nbformat": 4,
 "nbformat_minor": 4
}
