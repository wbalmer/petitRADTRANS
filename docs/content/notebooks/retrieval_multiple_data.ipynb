{
 "cells": [
  {
   "cell_type": "markdown",
   "metadata": {},
   "source": [
    "# Retrievals: Dealing with multiple datasets"
   ]
  },
  {
   "cell_type": "markdown",
   "metadata": {},
   "source": [
    "Written by [Evert Nasedkin](mailto:nasedkinevert@gmail.com?subject=[petitRADTRANS]%20Retrievals).\n",
    "Please cite pRT's retrieval package [(Nasedkin et al. 2024)](https://ui.adsabs.harvard.edu/abs/2024JOSS....9.5875N/abstract) in addition to pRT [(Mollière et al. 2019)](https://ui.adsabs.harvard.edu/abs/2019A%26A...627A..67M/abstract) if you make use of the retrieval package for your work."
   ]
  },
  {
   "cell_type": "markdown",
   "metadata": {},
   "source": [
    "This advanced tutorial will use JWST observations of WASP39 b to demonstrate how to incorporate multiple datasets into the pRT retrieval framework.\n",
    "This is the nominal `Radtrans` workflow. For the `SpectralModel` workflow, see the [SpectralModel retrieval notebook](./retrieval_spectral_model.ipynb)."
   ]
  },
  {
   "cell_type": "markdown",
   "metadata": {},
   "source": [
    "## Getting started"
   ]
  },
  {
   "cell_type": "markdown",
   "metadata": {},
   "source": [
    "**Please make sure to have worked through the [\"Basic Retrieval Tutorial\"](retrieval_basic.html) before looking at the material below.**\n",
    "\n",
    "In this tutorial, we will outline the process of setting up a RetrievalConfig object, which is the class used to set up a pRT retrieval.\n",
    "The basic process is always to set up the configuration, and then pass it to the Retrieval class to run the retrieval using, for example, pyMultiNest.\n",
    "Like mentioned in the [\"Basic Retrieval Tutorial\"](retrieval_basic.html) several standard plotting outputs will also be produced by the retrieval class.\n",
    "Most of the classes and functions used in this tutorial have more advanced features than what will be explained here, so it's highly recommended to take a look at the code and API documentation. \n",
    "There should be enough flexibility built in to cover most typical retrieval studies, but if you have feature requests please get in touch, or open an issue on [gitlab](https://gitlab.com/mauricemolli/petitRADTRANS.git)."
   ]
  },
  {
   "cell_type": "code",
   "execution_count": 1,
   "metadata": {},
   "outputs": [
    {
     "name": "stderr",
     "output_type": "stream",
     "text": [
      "[phy068139.wlan.tcd.ie:85915] shmem: mmap: an error occurred while determining whether or not /var/folders/66/46srd8053z5_wmg1tlyv021c0000gn/T//ompi.phy068139.501/jf.0/2724003840/sm_segment.phy068139.501.a25d0000.0 could be created.\n"
     ]
    }
   ],
   "source": [
    "# Let's start by importing everything we need\n",
    "import os\n",
    "\n",
    "import matplotlib.pyplot as plt\n",
    "import numpy as np\n",
    "\n",
    "from petitRADTRANS import physical_constants as cst\n",
    "from petitRADTRANS.radtrans import Radtrans\n",
    "\n",
    "# Import the class used to set up the retrieval.\n",
    "from petitRADTRANS.retrieval import Retrieval,RetrievalConfig\n",
    "\n",
    "# Import Prior functions, if necessary.\n",
    "from petitRADTRANS.retrieval.utils import gaussian_prior\n",
    "\n",
    "# Import atmospheric model function\n",
    "from petitRADTRANS.retrieval.models import guillot_transmission"
   ]
  },
  {
   "cell_type": "markdown",
   "metadata": {},
   "source": [
    "Lets start out by setting up a simple run definition.\n",
    "We'll add the data **after** we define the model function below\n",
    "Full details of the parameters can be found in the [API documentation](../../autoapi/petitRADTRANS/retrieval/retrieval_config/index.html)."
   ]
  },
  {
   "cell_type": "code",
   "execution_count": 2,
   "metadata": {},
   "outputs": [],
   "source": [
    "# Lets start out by setting up a simple run definition\n",
    "# Full details of the parameters can be found in retrieval_config.py\n",
    "\n",
    "# Since our retrieval has not run yet, we'll set the mode to 'retrieve'.\n",
    "# If it has already run, we can set it to 'evaluate', so we can make some plots.\n",
    "# In general, the evaluate functions will also be called after the 'retrieve' mode has finished.\n",
    "\n",
    "retrieval_config = RetrievalConfig(\n",
    "    retrieval_name=\"WASP39b_Guillot_FreeChem_PatchyGreyHaze\", \n",
    "    run_mode=\"retrieve\", # this must be 'retrieve' to run PyMultiNest, 'evaluate' if looking at an existing run\n",
    "    pressures=np.logspace(-8,3,100), # Extend up to 10^-8 bar    \n",
    "    amr=False, # We won't be using adaptive mesh refinement for the pressure grid        \n",
    "    scattering_in_emission=False\n",
    ") # This would turn on scattering when calculating emission spectra.\n",
    "# Scattering is automatically included for transmission spectra.    "
   ]
  },
  {
   "cell_type": "markdown",
   "metadata": {},
   "source": [
    "## Data\n",
    "Let's start with reading in the data. The data must be a 1D spectrum with error bars or a covariance matrix.\n",
    "\n",
    "As in the basic tutorial, we're reading in text files, but this time we also include the column that describes the wavelength bins:\n",
    "```\n",
    "# Wavelength [micron], Bins [micron], Flux [W/m2/micron or (Rp/Rstar)^2], Flux Error [W/m2/micron or (Rp/Rstar)^2]\n",
    "```\n",
    "\n",
    "As mentioned, the Data class is arguably the most important part of setting up the retrieval.\n",
    "Not only do you input your data here, but you also choose your model function and resolution. \n",
    "This means that you can design a retrieval around different datatypes and retrieve simultaneously on both - for example, if you want the day and nightside of a planet, or want to combine the eastward and westward limbs of a transmission spectrum with different models. \n",
    "New in version 3.1: you can now set the `data_resolution` as an array. For many instruments, such as those on JWST, the spectral resolution varies with wavelength. In order to more accurately capture this, you can now pass an array with the spectral resolution at each wavelength, which determines the width of the Gaussian kernel convolved with the model.\n",
    "\n",
    "You can also set a distance to your object, which will allow you to automatically scale the flux and error of your data using the `scale_to_distance()` method - useful if you have data normalized to 10pc! Finally, there's also a arguments `scale`, `scale_err` and `offset_bool`, which tells the retrieval that the flux or uncertaines should be scaled by an arbitrary multiplicative factor or have an additive offset, both which is set up as a normal retrieval parameter using the `RetrivalConfig.add_parameter()` method. \n",
    "The name must be of the format DATANAME_scale_factor or DATANAME_offset. \n",
    "This is useful if two datasets are incompatible in absolute photometry, but you still want to use the spectral shape to inform the retrieval.\n",
    "\n",
    "In this retrieval we're going to include several datasets from different JWST instruments, starting with NIRISS SOSS orders 1 and 2. \n",
    "To include both of them , we simply add more than one dataset to our `RetrievalConfig` object. \n",
    "Notice that we're also telling the retrieval that we want the data of Order 2 to have an additive offset: this will allow the data to float relative to Order 1, which remains fixed. This can be used to compensate for differences in transit depth between different instruments.\n",
    "\n",
    "We're also using the built-in `guillot_transmission` model for this retrieval, rather than writing our own model function from scratch."
   ]
  },
  {
   "cell_type": "code",
   "execution_count": 3,
   "metadata": {},
   "outputs": [],
   "source": [
    "# Here we import petitRADTRANS to find the path of the example files on your machine.\n",
    "# In general this is not required, you just put the files in the folder that you are running\n",
    "# Your script in, for example.\n",
    "import petitRADTRANS # need to get the name for the example data\n",
    "\n",
    "path_to_data = \"./\" \n",
    "\n",
    "transmission_directory = \"retrievals/transmission/observations/\"\n",
    "retrieval_config.add_data(\n",
    "    'JWST/NIRISSSOSS/O1',\n",
    "    f\"{path_to_data}{transmission_directory}JWST/WASP39b_niriss_soss1.txt\",\n",
    "    data_resolution=700,\n",
    "    model_resolution=300,\n",
    "    model_generating_function=guillot_transmission,\n",
    "    external_radtrans_reference=None\n",
    ")\n",
    "retrieval_config.add_data(\n",
    "    'JWST/NIRISSSOSS/O2',\n",
    "    f\"{path_to_data}{transmission_directory}JWST/WASP39b_niriss_soss2.txt\",\n",
    "    data_resolution=700,\n",
    "    model_resolution=300,\n",
    "    offset_bool=True,\n",
    "    model_generating_function=guillot_transmission,\n",
    "    external_radtrans_reference=None\n",
    ")"
   ]
  },
  {
   "cell_type": "markdown",
   "metadata": {},
   "source": [
    "## External references\n",
    "Sometimes the datasets will include regions that overlap in wavelength, or where one dataset falls entirely within the wavelength range of another dataset.\n",
    "In that case we can use an \"external reference\": for the dataset (let's call it \"short\") that falls within the wavelength range of the other (let's call it \"long\") we will not compute a model spectrum.\n",
    "Instead, we will use the model spectrum calculated for the \"long\" dataset. This way we only need to compute the spectrum once in the same wavelength range, rather than having the retrieval package initialise two `Radtrans` objects and calculating a spectrum for each. This saves both memory and time. However, be careful here: the model resolution in the reference object should be high enough to properly sample any datasets that reference it!\n",
    "If you have multiple data sets that do not overlap, but lie back-to-back to each other in wavelength space, with at most small gaps, it makes also sense to use external references, since it reduced computational overheads.\n",
    "\n",
    "In this example, the NIRSpec PRISM data covers the entire NIRISS SOSS wavelength range, so we can use it as a reference for both NIRISS SOSS orders.\n",
    "\n",
    "*Note that here we appear to do something odd: the data resolution is more than twice larger than the model resolution for NIRISS SOSS. In the special case here the SOSS data files are binned to R = 100. Thus, while the spectrum was indeed recorded at R=700, it is OK to use a lower pRT model resolution for the retrievals.*"
   ]
  },
  {
   "cell_type": "code",
   "execution_count": 4,
   "metadata": {},
   "outputs": [
    {
     "ename": "ValueError",
     "evalue": "Some errors were detected !\n    Line #2 (got 1 columns instead of 2)\n    Line #3 (got 1 columns instead of 2)\n    Line #4 (got 1 columns instead of 2)\n    Line #5 (got 1 columns instead of 2)\n    Line #6 (got 1 columns instead of 2)\n    Line #7 (got 1 columns instead of 2)\n    Line #8 (got 1 columns instead of 2)\n    Line #9 (got 1 columns instead of 2)\n    Line #10 (got 1 columns instead of 2)\n    Line #11 (got 1 columns instead of 2)\n    Line #12 (got 1 columns instead of 2)\n    Line #13 (got 1 columns instead of 2)\n    Line #14 (got 1 columns instead of 2)\n    Line #15 (got 1 columns instead of 2)\n    Line #16 (got 1 columns instead of 2)\n    Line #17 (got 1 columns instead of 2)\n    Line #18 (got 1 columns instead of 2)\n    Line #19 (got 1 columns instead of 2)\n    Line #20 (got 1 columns instead of 2)\n    Line #21 (got 1 columns instead of 2)\n    Line #22 (got 1 columns instead of 2)\n    Line #23 (got 1 columns instead of 2)\n    Line #24 (got 1 columns instead of 2)\n    Line #25 (got 1 columns instead of 2)\n    Line #26 (got 1 columns instead of 2)\n    Line #27 (got 1 columns instead of 2)\n    Line #28 (got 1 columns instead of 2)\n    Line #29 (got 1 columns instead of 2)\n    Line #30 (got 1 columns instead of 2)\n    Line #31 (got 1 columns instead of 2)\n    Line #32 (got 1 columns instead of 2)\n    Line #33 (got 1 columns instead of 2)\n    Line #34 (got 1 columns instead of 2)\n    Line #35 (got 1 columns instead of 2)\n    Line #36 (got 1 columns instead of 2)\n    Line #37 (got 1 columns instead of 2)\n    Line #38 (got 1 columns instead of 2)\n    Line #39 (got 1 columns instead of 2)\n    Line #40 (got 1 columns instead of 2)\n    Line #41 (got 1 columns instead of 2)\n    Line #42 (got 1 columns instead of 2)\n    Line #43 (got 1 columns instead of 2)\n    Line #44 (got 1 columns instead of 2)\n    Line #45 (got 1 columns instead of 2)\n    Line #46 (got 1 columns instead of 2)\n    Line #47 (got 1 columns instead of 2)\n    Line #48 (got 1 columns instead of 2)\n    Line #49 (got 1 columns instead of 2)\n    Line #50 (got 1 columns instead of 2)\n    Line #51 (got 1 columns instead of 2)\n    Line #52 (got 1 columns instead of 2)\n    Line #53 (got 1 columns instead of 2)\n    Line #54 (got 1 columns instead of 2)\n    Line #55 (got 1 columns instead of 2)\n    Line #56 (got 1 columns instead of 2)\n    Line #57 (got 1 columns instead of 2)\n    Line #58 (got 1 columns instead of 2)\n    Line #59 (got 1 columns instead of 2)\n    Line #60 (got 1 columns instead of 2)\n    Line #61 (got 1 columns instead of 2)\n    Line #62 (got 1 columns instead of 2)\n    Line #63 (got 1 columns instead of 2)\n    Line #64 (got 1 columns instead of 2)\n    Line #65 (got 1 columns instead of 2)\n    Line #66 (got 1 columns instead of 2)\n    Line #67 (got 1 columns instead of 2)\n    Line #68 (got 1 columns instead of 2)\n    Line #69 (got 1 columns instead of 2)\n    Line #70 (got 1 columns instead of 2)\n    Line #71 (got 1 columns instead of 2)\n    Line #72 (got 1 columns instead of 2)\n    Line #73 (got 1 columns instead of 2)\n    Line #74 (got 1 columns instead of 2)\n    Line #75 (got 1 columns instead of 2)\n    Line #76 (got 1 columns instead of 2)\n    Line #77 (got 1 columns instead of 2)\n    Line #78 (got 1 columns instead of 2)\n    Line #79 (got 1 columns instead of 2)\n    Line #80 (got 1 columns instead of 2)\n    Line #81 (got 1 columns instead of 2)\n    Line #82 (got 1 columns instead of 2)\n    Line #83 (got 1 columns instead of 2)\n    Line #84 (got 1 columns instead of 2)\n    Line #85 (got 1 columns instead of 2)\n    Line #86 (got 1 columns instead of 2)\n    Line #87 (got 1 columns instead of 2)\n    Line #88 (got 1 columns instead of 2)\n    Line #89 (got 1 columns instead of 2)\n    Line #90 (got 1 columns instead of 2)\n    Line #91 (got 1 columns instead of 2)\n    Line #92 (got 1 columns instead of 2)\n    Line #93 (got 1 columns instead of 2)\n    Line #94 (got 1 columns instead of 2)\n    Line #95 (got 1 columns instead of 2)\n    Line #96 (got 1 columns instead of 2)\n    Line #97 (got 1 columns instead of 2)\n    Line #98 (got 1 columns instead of 2)\n    Line #99 (got 1 columns instead of 2)\n    Line #100 (got 1 columns instead of 2)\n    Line #101 (got 1 columns instead of 2)\n    Line #102 (got 1 columns instead of 2)\n    Line #103 (got 1 columns instead of 2)\n    Line #104 (got 1 columns instead of 2)\n    Line #105 (got 1 columns instead of 2)\n    Line #106 (got 1 columns instead of 2)\n    Line #107 (got 1 columns instead of 2)\n    Line #108 (got 1 columns instead of 2)\n    Line #109 (got 1 columns instead of 2)\n    Line #110 (got 1 columns instead of 2)\n    Line #111 (got 1 columns instead of 2)\n    Line #112 (got 1 columns instead of 2)\n    Line #113 (got 1 columns instead of 2)\n    Line #114 (got 1 columns instead of 2)\n    Line #115 (got 1 columns instead of 2)\n    Line #116 (got 1 columns instead of 2)\n    Line #117 (got 1 columns instead of 2)\n    Line #118 (got 1 columns instead of 2)\n    Line #119 (got 1 columns instead of 2)\n    Line #120 (got 1 columns instead of 2)\n    Line #121 (got 1 columns instead of 2)\n    Line #122 (got 1 columns instead of 2)\n    Line #123 (got 1 columns instead of 2)\n    Line #124 (got 1 columns instead of 2)\n    Line #125 (got 1 columns instead of 2)\n    Line #126 (got 1 columns instead of 2)\n    Line #127 (got 1 columns instead of 2)\n    Line #128 (got 1 columns instead of 2)\n    Line #129 (got 1 columns instead of 2)\n    Line #130 (got 1 columns instead of 2)\n    Line #131 (got 1 columns instead of 2)\n    Line #132 (got 1 columns instead of 2)\n    Line #133 (got 1 columns instead of 2)\n    Line #134 (got 1 columns instead of 2)\n    Line #135 (got 1 columns instead of 2)\n    Line #136 (got 1 columns instead of 2)\n    Line #137 (got 1 columns instead of 2)\n    Line #138 (got 1 columns instead of 2)\n    Line #139 (got 1 columns instead of 2)\n    Line #140 (got 1 columns instead of 2)\n    Line #141 (got 1 columns instead of 2)\n    Line #142 (got 1 columns instead of 2)\n    Line #143 (got 1 columns instead of 2)\n    Line #144 (got 1 columns instead of 2)\n    Line #145 (got 1 columns instead of 2)\n    Line #146 (got 1 columns instead of 2)\n    Line #147 (got 1 columns instead of 2)\n    Line #148 (got 1 columns instead of 2)",
     "output_type": "error",
     "traceback": [
      "\u001b[0;31m---------------------------------------------------------------------------\u001b[0m",
      "\u001b[0;31mValueError\u001b[0m                                Traceback (most recent call last)",
      "Cell \u001b[0;32mIn[4], line 2\u001b[0m\n\u001b[1;32m      1\u001b[0m retrieval_config\u001b[38;5;241m.\u001b[39mdata \u001b[38;5;241m=\u001b[39m {} \u001b[38;5;66;03m# Remove the previous data that was added above to start with a clean slate.\u001b[39;00m\n\u001b[0;32m----> 2\u001b[0m \u001b[43mretrieval_config\u001b[49m\u001b[38;5;241;43m.\u001b[39;49m\u001b[43madd_data\u001b[49m\u001b[43m(\u001b[49m\n\u001b[1;32m      3\u001b[0m \u001b[43m    \u001b[49m\u001b[38;5;124;43m'\u001b[39;49m\u001b[38;5;124;43mJWST/NIRSPEC/PRISM\u001b[39;49m\u001b[38;5;124;43m'\u001b[39;49m\u001b[43m,\u001b[49m\n\u001b[1;32m      4\u001b[0m \u001b[43m    \u001b[49m\u001b[38;5;124;43mf\u001b[39;49m\u001b[38;5;124;43m\"\u001b[39;49m\u001b[38;5;132;43;01m{\u001b[39;49;00m\u001b[43mpath_to_data\u001b[49m\u001b[38;5;132;43;01m}\u001b[39;49;00m\u001b[38;5;132;43;01m{\u001b[39;49;00m\u001b[43mtransmission_directory\u001b[49m\u001b[38;5;132;43;01m}\u001b[39;49;00m\u001b[38;5;124;43mJWST/WASP39b_NIRSpec_PRISM_bins_scale1.csv\u001b[39;49m\u001b[38;5;124;43m\"\u001b[39;49m\u001b[43m,\u001b[49m\n\u001b[1;32m      5\u001b[0m \u001b[43m    \u001b[49m\u001b[43mdata_resolution\u001b[49m\u001b[38;5;241;43m=\u001b[39;49m\u001b[38;5;241;43m100\u001b[39;49m\u001b[43m,\u001b[49m\n\u001b[1;32m      6\u001b[0m \u001b[43m    \u001b[49m\u001b[43mmodel_resolution\u001b[49m\u001b[38;5;241;43m=\u001b[39;49m\u001b[38;5;241;43m300\u001b[39;49m\u001b[43m,\u001b[49m\n\u001b[1;32m      7\u001b[0m \u001b[43m    \u001b[49m\u001b[43moffset_bool\u001b[49m\u001b[38;5;241;43m=\u001b[39;49m\u001b[38;5;28;43;01mTrue\u001b[39;49;00m\u001b[43m,\u001b[49m\n\u001b[1;32m      8\u001b[0m \u001b[43m    \u001b[49m\u001b[43mmodel_generating_function\u001b[49m\u001b[38;5;241;43m=\u001b[39;49m\u001b[43mguillot_transmission\u001b[49m\n\u001b[1;32m      9\u001b[0m \u001b[43m)\u001b[49m\n\u001b[1;32m     10\u001b[0m retrieval_config\u001b[38;5;241m.\u001b[39madd_data(\n\u001b[1;32m     11\u001b[0m     \u001b[38;5;124m'\u001b[39m\u001b[38;5;124mJWST/NIRISSSOSS/O1\u001b[39m\u001b[38;5;124m'\u001b[39m,\n\u001b[1;32m     12\u001b[0m     \u001b[38;5;124mf\u001b[39m\u001b[38;5;124m\"\u001b[39m\u001b[38;5;132;01m{\u001b[39;00mpath_to_data\u001b[38;5;132;01m}\u001b[39;00m\u001b[38;5;132;01m{\u001b[39;00mtransmission_directory\u001b[38;5;132;01m}\u001b[39;00m\u001b[38;5;124mJWST/WASP39b_NIRISS_SOSS_Order1_R100.csv\u001b[39m\u001b[38;5;124m\"\u001b[39m,\n\u001b[0;32m   (...)\u001b[0m\n\u001b[1;32m     16\u001b[0m     external_radtrans_reference\u001b[38;5;241m=\u001b[39m\u001b[38;5;124m'\u001b[39m\u001b[38;5;124mJWST/NIRSPEC/PRISM\u001b[39m\u001b[38;5;124m'\u001b[39m  \u001b[38;5;66;03m# here we set the external pRT reference to PRISM\u001b[39;00m\n\u001b[1;32m     17\u001b[0m )\n\u001b[1;32m     18\u001b[0m retrieval_config\u001b[38;5;241m.\u001b[39madd_data(\n\u001b[1;32m     19\u001b[0m     \u001b[38;5;124m'\u001b[39m\u001b[38;5;124mJWST/NIRISSSOSS/O2\u001b[39m\u001b[38;5;124m'\u001b[39m,\n\u001b[1;32m     20\u001b[0m     \u001b[38;5;124mf\u001b[39m\u001b[38;5;124m\"\u001b[39m\u001b[38;5;132;01m{\u001b[39;00mpath_to_data\u001b[38;5;132;01m}\u001b[39;00m\u001b[38;5;132;01m{\u001b[39;00mtransmission_directory\u001b[38;5;132;01m}\u001b[39;00m\u001b[38;5;124mJWST/WASP39b_NIRISS_SOSS_Order2_R100.csv\u001b[39m\u001b[38;5;124m\"\u001b[39m,\n\u001b[0;32m   (...)\u001b[0m\n\u001b[1;32m     25\u001b[0m     external_radtrans_reference \u001b[38;5;241m=\u001b[39m \u001b[38;5;124m'\u001b[39m\u001b[38;5;124mJWST/NIRSPEC/PRISM\u001b[39m\u001b[38;5;124m'\u001b[39m  \u001b[38;5;66;03m# here we set the external pRT reference to PRISM\u001b[39;00m\n\u001b[1;32m     26\u001b[0m )\n",
      "File \u001b[0;32m~/python-packages/petitRADTRANS/petitRADTRANS/retrieval/retrieval_config.py:491\u001b[0m, in \u001b[0;36mRetrievalConfig.add_data\u001b[0;34m(self, name, path_to_observations, model_generating_function, data_resolution, model_resolution, system_distance, scale, scale_err, offset_bool, photometry, photometric_transformation_function, photometric_bin_edges, wavelength_boundaries, external_radtrans_reference, line_opacity_mode, wavelength_bin_widths, radtrans_grid, radtrans_object, wavelengths, spectrum, uncertainties, mask, concatenate_flux_epochs_variability, variability_atmospheric_column_model_flux_return_mode, atmospheric_column_flux_mixer)\u001b[0m\n\u001b[1;32m    428\u001b[0m \u001b[38;5;28;01mdef\u001b[39;00m \u001b[38;5;21madd_data\u001b[39m(\u001b[38;5;28mself\u001b[39m,\n\u001b[1;32m    429\u001b[0m              name,\n\u001b[1;32m    430\u001b[0m              path_to_observations,\n\u001b[0;32m   (...)\u001b[0m\n\u001b[1;32m    452\u001b[0m              variability_atmospheric_column_model_flux_return_mode\u001b[38;5;241m=\u001b[39m\u001b[38;5;28;01mFalse\u001b[39;00m,\n\u001b[1;32m    453\u001b[0m              atmospheric_column_flux_mixer\u001b[38;5;241m=\u001b[39m\u001b[38;5;28;01mNone\u001b[39;00m):\n\u001b[1;32m    454\u001b[0m \u001b[38;5;250m    \u001b[39m\u001b[38;5;124;03m\"\"\"\u001b[39;00m\n\u001b[1;32m    455\u001b[0m \u001b[38;5;124;03m    Create a Data class object.\u001b[39;00m\n\u001b[1;32m    456\u001b[0m \u001b[38;5;124;03m    # TODO complete docstring\u001b[39;00m\n\u001b[0;32m   (...)\u001b[0m\n\u001b[1;32m    489\u001b[0m \u001b[38;5;124;03m            Set to true if data has been binned to pRT R = 1,000 c-k grid.\u001b[39;00m\n\u001b[1;32m    490\u001b[0m \u001b[38;5;124;03m    \"\"\"\u001b[39;00m\n\u001b[0;32m--> 491\u001b[0m     \u001b[38;5;28mself\u001b[39m\u001b[38;5;241m.\u001b[39mdata[name] \u001b[38;5;241m=\u001b[39m \u001b[43mData\u001b[49m\u001b[43m(\u001b[49m\n\u001b[1;32m    492\u001b[0m \u001b[43m        \u001b[49m\u001b[43mname\u001b[49m\u001b[38;5;241;43m=\u001b[39;49m\u001b[43mname\u001b[49m\u001b[43m,\u001b[49m\n\u001b[1;32m    493\u001b[0m \u001b[43m        \u001b[49m\u001b[43mpath_to_observations\u001b[49m\u001b[38;5;241;43m=\u001b[39;49m\u001b[43mpath_to_observations\u001b[49m\u001b[43m,\u001b[49m\n\u001b[1;32m    494\u001b[0m \u001b[43m        \u001b[49m\u001b[43mmodel_generating_function\u001b[49m\u001b[38;5;241;43m=\u001b[39;49m\u001b[43mmodel_generating_function\u001b[49m\u001b[43m,\u001b[49m\n\u001b[1;32m    495\u001b[0m \u001b[43m        \u001b[49m\u001b[43mdata_resolution\u001b[49m\u001b[38;5;241;43m=\u001b[39;49m\u001b[43mdata_resolution\u001b[49m\u001b[43m,\u001b[49m\n\u001b[1;32m    496\u001b[0m \u001b[43m        \u001b[49m\u001b[43mmodel_resolution\u001b[49m\u001b[38;5;241;43m=\u001b[39;49m\u001b[43mmodel_resolution\u001b[49m\u001b[43m,\u001b[49m\n\u001b[1;32m    497\u001b[0m \u001b[43m        \u001b[49m\u001b[43msystem_distance\u001b[49m\u001b[38;5;241;43m=\u001b[39;49m\u001b[43msystem_distance\u001b[49m\u001b[43m,\u001b[49m\n\u001b[1;32m    498\u001b[0m \u001b[43m        \u001b[49m\u001b[43mscale\u001b[49m\u001b[38;5;241;43m=\u001b[39;49m\u001b[43mscale\u001b[49m\u001b[43m,\u001b[49m\n\u001b[1;32m    499\u001b[0m \u001b[43m        \u001b[49m\u001b[43mscale_err\u001b[49m\u001b[38;5;241;43m=\u001b[39;49m\u001b[43mscale_err\u001b[49m\u001b[43m,\u001b[49m\n\u001b[1;32m    500\u001b[0m \u001b[43m        \u001b[49m\u001b[43moffset_bool\u001b[49m\u001b[38;5;241;43m=\u001b[39;49m\u001b[43moffset_bool\u001b[49m\u001b[43m,\u001b[49m\n\u001b[1;32m    501\u001b[0m \u001b[43m        \u001b[49m\u001b[43mphotometry\u001b[49m\u001b[38;5;241;43m=\u001b[39;49m\u001b[43mphotometry\u001b[49m\u001b[43m,\u001b[49m\n\u001b[1;32m    502\u001b[0m \u001b[43m        \u001b[49m\u001b[43mphotometric_transformation_function\u001b[49m\u001b[38;5;241;43m=\u001b[39;49m\u001b[43mphotometric_transformation_function\u001b[49m\u001b[43m,\u001b[49m\n\u001b[1;32m    503\u001b[0m \u001b[43m        \u001b[49m\u001b[43mphotometric_bin_edges\u001b[49m\u001b[38;5;241;43m=\u001b[39;49m\u001b[43mphotometric_bin_edges\u001b[49m\u001b[43m,\u001b[49m\n\u001b[1;32m    504\u001b[0m \u001b[43m        \u001b[49m\u001b[43mwavelength_boundaries\u001b[49m\u001b[38;5;241;43m=\u001b[39;49m\u001b[43mwavelength_boundaries\u001b[49m\u001b[43m,\u001b[49m\n\u001b[1;32m    505\u001b[0m \u001b[43m        \u001b[49m\u001b[43mexternal_radtrans_reference\u001b[49m\u001b[38;5;241;43m=\u001b[39;49m\u001b[43mexternal_radtrans_reference\u001b[49m\u001b[43m,\u001b[49m\n\u001b[1;32m    506\u001b[0m \u001b[43m        \u001b[49m\u001b[43mline_opacity_mode\u001b[49m\u001b[38;5;241;43m=\u001b[39;49m\u001b[43mline_opacity_mode\u001b[49m\u001b[43m,\u001b[49m\n\u001b[1;32m    507\u001b[0m \u001b[43m        \u001b[49m\u001b[43mwavelength_bin_widths\u001b[49m\u001b[38;5;241;43m=\u001b[39;49m\u001b[43mwavelength_bin_widths\u001b[49m\u001b[43m,\u001b[49m\n\u001b[1;32m    508\u001b[0m \u001b[43m        \u001b[49m\u001b[43mradtrans_grid\u001b[49m\u001b[38;5;241;43m=\u001b[39;49m\u001b[43mradtrans_grid\u001b[49m\u001b[43m,\u001b[49m\n\u001b[1;32m    509\u001b[0m \u001b[43m        \u001b[49m\u001b[43mradtrans_object\u001b[49m\u001b[38;5;241;43m=\u001b[39;49m\u001b[43mradtrans_object\u001b[49m\u001b[43m,\u001b[49m\n\u001b[1;32m    510\u001b[0m \u001b[43m        \u001b[49m\u001b[43mwavelengths\u001b[49m\u001b[38;5;241;43m=\u001b[39;49m\u001b[43mwavelengths\u001b[49m\u001b[43m,\u001b[49m\n\u001b[1;32m    511\u001b[0m \u001b[43m        \u001b[49m\u001b[43mspectrum\u001b[49m\u001b[38;5;241;43m=\u001b[39;49m\u001b[43mspectrum\u001b[49m\u001b[43m,\u001b[49m\n\u001b[1;32m    512\u001b[0m \u001b[43m        \u001b[49m\u001b[43muncertainties\u001b[49m\u001b[38;5;241;43m=\u001b[39;49m\u001b[43muncertainties\u001b[49m\u001b[43m,\u001b[49m\n\u001b[1;32m    513\u001b[0m \u001b[43m        \u001b[49m\u001b[43mmask\u001b[49m\u001b[38;5;241;43m=\u001b[39;49m\u001b[43mmask\u001b[49m\u001b[43m,\u001b[49m\n\u001b[1;32m    514\u001b[0m \u001b[43m        \u001b[49m\u001b[43mconcatenate_flux_epochs_variability\u001b[49m\u001b[38;5;241;43m=\u001b[39;49m\u001b[43mconcatenate_flux_epochs_variability\u001b[49m\u001b[43m,\u001b[49m\n\u001b[1;32m    515\u001b[0m \u001b[43m        \u001b[49m\u001b[43mvariability_atmospheric_column_model_flux_return_mode\u001b[49m\u001b[38;5;241;43m=\u001b[39;49m\u001b[43mvariability_atmospheric_column_model_flux_return_mode\u001b[49m\u001b[43m,\u001b[49m\n\u001b[1;32m    516\u001b[0m \u001b[43m        \u001b[49m\u001b[43matmospheric_column_flux_mixer\u001b[49m\u001b[38;5;241;43m=\u001b[39;49m\u001b[43matmospheric_column_flux_mixer\u001b[49m\n\u001b[1;32m    517\u001b[0m \u001b[43m    \u001b[49m\u001b[43m)\u001b[49m\n",
      "File \u001b[0;32m~/python-packages/petitRADTRANS/petitRADTRANS/retrieval/data.py:245\u001b[0m, in \u001b[0;36mData.__init__\u001b[0;34m(self, name, path_to_observations, data_resolution, model_resolution, system_distance, external_radtrans_reference, model_generating_function, wavelength_boundaries, scale, scale_err, offset_bool, wavelength_bin_widths, photometry, photometric_transformation_function, photometric_bin_edges, line_opacity_mode, radtrans_grid, concatenate_flux_epochs_variability, atmospheric_column_flux_mixer, variability_atmospheric_column_model_flux_return_mode, radtrans_object, wavelengths, spectrum, uncertainties, mask)\u001b[0m\n\u001b[1;32m    243\u001b[0m     \u001b[38;5;28mself\u001b[39m\u001b[38;5;241m.\u001b[39mloadfits(path_to_observations)\n\u001b[1;32m    244\u001b[0m \u001b[38;5;28;01melse\u001b[39;00m:\n\u001b[0;32m--> 245\u001b[0m     \u001b[38;5;28;43mself\u001b[39;49m\u001b[38;5;241;43m.\u001b[39;49m\u001b[43mloadtxt\u001b[49m\u001b[43m(\u001b[49m\u001b[43mpath_to_observations\u001b[49m\u001b[43m)\u001b[49m\n\u001b[1;32m    247\u001b[0m \u001b[38;5;28;01mif\u001b[39;00m wavelength_boundaries \u001b[38;5;129;01mis\u001b[39;00m \u001b[38;5;129;01mnot\u001b[39;00m \u001b[38;5;28;01mNone\u001b[39;00m:\n\u001b[1;32m    248\u001b[0m     \u001b[38;5;28mself\u001b[39m\u001b[38;5;241m.\u001b[39mwavelength_boundaries \u001b[38;5;241m=\u001b[39m wavelength_boundaries\n",
      "File \u001b[0;32m~/python-packages/petitRADTRANS/petitRADTRANS/retrieval/data.py:295\u001b[0m, in \u001b[0;36mData.loadtxt\u001b[0;34m(self, path, delimiter, comments)\u001b[0m\n\u001b[1;32m    293\u001b[0m \u001b[38;5;66;03m# Input sanity checks\u001b[39;00m\n\u001b[1;32m    294\u001b[0m \u001b[38;5;28;01mif\u001b[39;00m np\u001b[38;5;241m.\u001b[39misnan(obs)\u001b[38;5;241m.\u001b[39many():\n\u001b[0;32m--> 295\u001b[0m     obs \u001b[38;5;241m=\u001b[39m \u001b[43mnp\u001b[49m\u001b[38;5;241;43m.\u001b[39;49m\u001b[43mgenfromtxt\u001b[49m\u001b[43m(\u001b[49m\u001b[43mpath\u001b[49m\u001b[43m)\u001b[49m\n\u001b[1;32m    296\u001b[0m \u001b[38;5;28;01mif\u001b[39;00m \u001b[38;5;28mlen\u001b[39m(obs\u001b[38;5;241m.\u001b[39mshape) \u001b[38;5;241m<\u001b[39m \u001b[38;5;241m2\u001b[39m:\n\u001b[1;32m    297\u001b[0m     obs \u001b[38;5;241m=\u001b[39m np\u001b[38;5;241m.\u001b[39mgenfromtxt(path, comments\u001b[38;5;241m=\u001b[39mcomments)\n",
      "File \u001b[0;32m/opt/anaconda3/envs/prt3python312/lib/python3.12/site-packages/numpy/lib/npyio.py:2312\u001b[0m, in \u001b[0;36mgenfromtxt\u001b[0;34m(fname, dtype, comments, delimiter, skip_header, skip_footer, converters, missing_values, filling_values, usecols, names, excludelist, deletechars, replace_space, autostrip, case_sensitive, defaultfmt, unpack, usemask, loose, invalid_raise, max_rows, encoding, ndmin, like)\u001b[0m\n\u001b[1;32m   2310\u001b[0m \u001b[38;5;66;03m# Raise an exception ?\u001b[39;00m\n\u001b[1;32m   2311\u001b[0m \u001b[38;5;28;01mif\u001b[39;00m invalid_raise:\n\u001b[0;32m-> 2312\u001b[0m     \u001b[38;5;28;01mraise\u001b[39;00m \u001b[38;5;167;01mValueError\u001b[39;00m(errmsg)\n\u001b[1;32m   2313\u001b[0m \u001b[38;5;66;03m# Issue a warning ?\u001b[39;00m\n\u001b[1;32m   2314\u001b[0m \u001b[38;5;28;01melse\u001b[39;00m:\n\u001b[1;32m   2315\u001b[0m     warnings\u001b[38;5;241m.\u001b[39mwarn(errmsg, ConversionWarning, stacklevel\u001b[38;5;241m=\u001b[39m\u001b[38;5;241m2\u001b[39m)\n",
      "\u001b[0;31mValueError\u001b[0m: Some errors were detected !\n    Line #2 (got 1 columns instead of 2)\n    Line #3 (got 1 columns instead of 2)\n    Line #4 (got 1 columns instead of 2)\n    Line #5 (got 1 columns instead of 2)\n    Line #6 (got 1 columns instead of 2)\n    Line #7 (got 1 columns instead of 2)\n    Line #8 (got 1 columns instead of 2)\n    Line #9 (got 1 columns instead of 2)\n    Line #10 (got 1 columns instead of 2)\n    Line #11 (got 1 columns instead of 2)\n    Line #12 (got 1 columns instead of 2)\n    Line #13 (got 1 columns instead of 2)\n    Line #14 (got 1 columns instead of 2)\n    Line #15 (got 1 columns instead of 2)\n    Line #16 (got 1 columns instead of 2)\n    Line #17 (got 1 columns instead of 2)\n    Line #18 (got 1 columns instead of 2)\n    Line #19 (got 1 columns instead of 2)\n    Line #20 (got 1 columns instead of 2)\n    Line #21 (got 1 columns instead of 2)\n    Line #22 (got 1 columns instead of 2)\n    Line #23 (got 1 columns instead of 2)\n    Line #24 (got 1 columns instead of 2)\n    Line #25 (got 1 columns instead of 2)\n    Line #26 (got 1 columns instead of 2)\n    Line #27 (got 1 columns instead of 2)\n    Line #28 (got 1 columns instead of 2)\n    Line #29 (got 1 columns instead of 2)\n    Line #30 (got 1 columns instead of 2)\n    Line #31 (got 1 columns instead of 2)\n    Line #32 (got 1 columns instead of 2)\n    Line #33 (got 1 columns instead of 2)\n    Line #34 (got 1 columns instead of 2)\n    Line #35 (got 1 columns instead of 2)\n    Line #36 (got 1 columns instead of 2)\n    Line #37 (got 1 columns instead of 2)\n    Line #38 (got 1 columns instead of 2)\n    Line #39 (got 1 columns instead of 2)\n    Line #40 (got 1 columns instead of 2)\n    Line #41 (got 1 columns instead of 2)\n    Line #42 (got 1 columns instead of 2)\n    Line #43 (got 1 columns instead of 2)\n    Line #44 (got 1 columns instead of 2)\n    Line #45 (got 1 columns instead of 2)\n    Line #46 (got 1 columns instead of 2)\n    Line #47 (got 1 columns instead of 2)\n    Line #48 (got 1 columns instead of 2)\n    Line #49 (got 1 columns instead of 2)\n    Line #50 (got 1 columns instead of 2)\n    Line #51 (got 1 columns instead of 2)\n    Line #52 (got 1 columns instead of 2)\n    Line #53 (got 1 columns instead of 2)\n    Line #54 (got 1 columns instead of 2)\n    Line #55 (got 1 columns instead of 2)\n    Line #56 (got 1 columns instead of 2)\n    Line #57 (got 1 columns instead of 2)\n    Line #58 (got 1 columns instead of 2)\n    Line #59 (got 1 columns instead of 2)\n    Line #60 (got 1 columns instead of 2)\n    Line #61 (got 1 columns instead of 2)\n    Line #62 (got 1 columns instead of 2)\n    Line #63 (got 1 columns instead of 2)\n    Line #64 (got 1 columns instead of 2)\n    Line #65 (got 1 columns instead of 2)\n    Line #66 (got 1 columns instead of 2)\n    Line #67 (got 1 columns instead of 2)\n    Line #68 (got 1 columns instead of 2)\n    Line #69 (got 1 columns instead of 2)\n    Line #70 (got 1 columns instead of 2)\n    Line #71 (got 1 columns instead of 2)\n    Line #72 (got 1 columns instead of 2)\n    Line #73 (got 1 columns instead of 2)\n    Line #74 (got 1 columns instead of 2)\n    Line #75 (got 1 columns instead of 2)\n    Line #76 (got 1 columns instead of 2)\n    Line #77 (got 1 columns instead of 2)\n    Line #78 (got 1 columns instead of 2)\n    Line #79 (got 1 columns instead of 2)\n    Line #80 (got 1 columns instead of 2)\n    Line #81 (got 1 columns instead of 2)\n    Line #82 (got 1 columns instead of 2)\n    Line #83 (got 1 columns instead of 2)\n    Line #84 (got 1 columns instead of 2)\n    Line #85 (got 1 columns instead of 2)\n    Line #86 (got 1 columns instead of 2)\n    Line #87 (got 1 columns instead of 2)\n    Line #88 (got 1 columns instead of 2)\n    Line #89 (got 1 columns instead of 2)\n    Line #90 (got 1 columns instead of 2)\n    Line #91 (got 1 columns instead of 2)\n    Line #92 (got 1 columns instead of 2)\n    Line #93 (got 1 columns instead of 2)\n    Line #94 (got 1 columns instead of 2)\n    Line #95 (got 1 columns instead of 2)\n    Line #96 (got 1 columns instead of 2)\n    Line #97 (got 1 columns instead of 2)\n    Line #98 (got 1 columns instead of 2)\n    Line #99 (got 1 columns instead of 2)\n    Line #100 (got 1 columns instead of 2)\n    Line #101 (got 1 columns instead of 2)\n    Line #102 (got 1 columns instead of 2)\n    Line #103 (got 1 columns instead of 2)\n    Line #104 (got 1 columns instead of 2)\n    Line #105 (got 1 columns instead of 2)\n    Line #106 (got 1 columns instead of 2)\n    Line #107 (got 1 columns instead of 2)\n    Line #108 (got 1 columns instead of 2)\n    Line #109 (got 1 columns instead of 2)\n    Line #110 (got 1 columns instead of 2)\n    Line #111 (got 1 columns instead of 2)\n    Line #112 (got 1 columns instead of 2)\n    Line #113 (got 1 columns instead of 2)\n    Line #114 (got 1 columns instead of 2)\n    Line #115 (got 1 columns instead of 2)\n    Line #116 (got 1 columns instead of 2)\n    Line #117 (got 1 columns instead of 2)\n    Line #118 (got 1 columns instead of 2)\n    Line #119 (got 1 columns instead of 2)\n    Line #120 (got 1 columns instead of 2)\n    Line #121 (got 1 columns instead of 2)\n    Line #122 (got 1 columns instead of 2)\n    Line #123 (got 1 columns instead of 2)\n    Line #124 (got 1 columns instead of 2)\n    Line #125 (got 1 columns instead of 2)\n    Line #126 (got 1 columns instead of 2)\n    Line #127 (got 1 columns instead of 2)\n    Line #128 (got 1 columns instead of 2)\n    Line #129 (got 1 columns instead of 2)\n    Line #130 (got 1 columns instead of 2)\n    Line #131 (got 1 columns instead of 2)\n    Line #132 (got 1 columns instead of 2)\n    Line #133 (got 1 columns instead of 2)\n    Line #134 (got 1 columns instead of 2)\n    Line #135 (got 1 columns instead of 2)\n    Line #136 (got 1 columns instead of 2)\n    Line #137 (got 1 columns instead of 2)\n    Line #138 (got 1 columns instead of 2)\n    Line #139 (got 1 columns instead of 2)\n    Line #140 (got 1 columns instead of 2)\n    Line #141 (got 1 columns instead of 2)\n    Line #142 (got 1 columns instead of 2)\n    Line #143 (got 1 columns instead of 2)\n    Line #144 (got 1 columns instead of 2)\n    Line #145 (got 1 columns instead of 2)\n    Line #146 (got 1 columns instead of 2)\n    Line #147 (got 1 columns instead of 2)\n    Line #148 (got 1 columns instead of 2)"
     ]
    }
   ],
   "source": [
    "retrieval_config.data = {} # Remove the previous data that was added above to start with a clean slate.\n",
    "retrieval_config.add_data(\n",
    "    'JWST/NIRSPEC/PRISM',\n",
    "    f\"{path_to_data}{transmission_directory}JWST/WASP39b_NIRSpec_PRISM_bins_scale1.csv\",\n",
    "    data_resolution=100,\n",
    "    model_resolution=300,\n",
    "    offset_bool=True,\n",
    "    model_generating_function=guillot_transmission\n",
    ")\n",
    "retrieval_config.add_data(\n",
    "    'JWST/NIRISSSOSS/O1',\n",
    "    f\"{path_to_data}{transmission_directory}JWST/WASP39b_NIRISS_SOSS_Order1_R100.csv\",\n",
    "    data_resolution=700,\n",
    "    model_resolution=300,\n",
    "    model_generating_function = guillot_transmission,\n",
    "    external_radtrans_reference='JWST/NIRSPEC/PRISM'  # here we set the external pRT reference to PRISM\n",
    ")\n",
    "retrieval_config.add_data(\n",
    "    'JWST/NIRISSSOSS/O2',\n",
    "    f\"{path_to_data}{transmission_directory}JWST/WASP39b_NIRISS_SOSS_Order2_R100.csv\",\n",
    "    data_resolution=700,\n",
    "    model_resolution=300,\n",
    "    offset_bool=True,\n",
    "    model_generating_function = guillot_transmission,\n",
    "    external_radtrans_reference = 'JWST/NIRSPEC/PRISM'  # here we set the external pRT reference to PRISM\n",
    ")"
   ]
  },
  {
   "cell_type": "markdown",
   "metadata": {},
   "source": [
    "## Model parameters\n",
    "Here we're using a more complicated atmospheric model to fit the JWST data.\n",
    "The temperature profile is taken from Guillot 2010, and includes four parameters to describe the shape.\n",
    "We're freely retrieving the chemical abundances, and include both patchy grey clouds and an enhanced power law slope as a proxy for hazes.\n",
    "The cloud coverage fraction is set with the `cloud_fraction` (formerly `patchiness`, which will still work) parameter.\n",
    "\n",
    "If we're using real cloud opacities, rather than grey ones, we, can set the patchiness to only apply to a subset of the cloud species.\n",
    "To do this, we just need to create a parameter called `complete_coverage_clouds`, and set the `value` to a list of the cloud species that are NOT patchy."
   ]
  },
  {
   "cell_type": "code",
   "execution_count": 5,
   "metadata": {},
   "outputs": [],
   "source": [
    "# WASP 39 parameters\n",
    "retrieval_config.add_parameter(\n",
    "    name='stellar_radius',\n",
    "    free=False, \n",
    "    value=0.9324 * cst.r_sun\n",
    ")\n",
    "\n",
    "# Fix the reference pressure in bar\n",
    "retrieval_config.add_parameter(\n",
    "    'reference_pressure',\n",
    "    False,\n",
    "    value=0.01\n",
    ")\n",
    "\n",
    "# Choose two of log_g, radius and mass priors\n",
    "retrieval_config.add_parameter(\n",
    "    'log_g',\n",
    "    True,\n",
    "    transform_prior_cube_coordinate=lambda x: 2.0 + 3.5 * x\n",
    ")\n",
    "retrieval_config.add_parameter(\n",
    "    'planet_radius', \n",
    "    True,\n",
    "    transform_prior_cube_coordinate=lambda x: 0.8 * cst.r_jup_mean + (x * 0.8 * cst.r_jup_mean)\n",
    ")\n",
    "\n",
    "# Priors for Guillot 2010 Temperature Profile\n",
    "retrieval_config.add_parameter(\n",
    "    \"T_int\", \n",
    "    True,\n",
    "    transform_prior_cube_coordinate=lambda x: 100 + 3500 * x\n",
    ")\n",
    "retrieval_config.add_parameter(\n",
    "    \"T_equ\",\n",
    "    True,\n",
    "    transform_prior_cube_coordinate=lambda x: 100 + 3500 * x\n",
    ")\n",
    "retrieval_config.add_parameter(\n",
    "    \"gamma\",\n",
    "    True,\n",
    "    transform_prior_cube_coordinate=lambda x:  10 ** (-(x / 2) ** 2 / 2)\n",
    ")\n",
    "retrieval_config.add_parameter(\n",
    "    \"log_kappa_IR\",\n",
    "    True,\n",
    "    transform_prior_cube_coordinate=lambda x: -4.0 + 6.0 * x\n",
    ")\n",
    "\n",
    "# Grey cloud top pressure\n",
    "retrieval_config.add_parameter(\n",
    "    'log_Pcloud',\n",
    "    True,\n",
    "    transform_prior_cube_coordinate=lambda x: -8 + 11 * x\n",
    ")\n",
    "\n",
    "# Enhanced haze scattering slope  \n",
    "# kappa                          \n",
    "retrieval_config.add_parameter(\n",
    "    'haze_factor',\n",
    "    True,\n",
    "    transform_prior_cube_coordinate=lambda x: -4 + 14 * x\n",
    ")\n",
    "# gamma\n",
    "retrieval_config.add_parameter(\n",
    "    'power_law_opacity_350nm',\n",
    "    True,\n",
    "    transform_prior_cube_coordinate=lambda x: 10**(-20 + 40 * x)\n",
    ")\n",
    "retrieval_config.add_parameter(\n",
    "    'power_law_opacity_coefficient',\n",
    "    True,\n",
    "    transform_prior_cube_coordinate=lambda x: -20 + 22 * x\n",
    ")\n",
    "# Cloud fraction                            \n",
    "retrieval_config.add_parameter(\n",
    "    'cloud_fraction',\n",
    "    True,\n",
    "    transform_prior_cube_coordinate=lambda x: x\n",
    ")\n",
    "\n",
    "# Data offsets\n",
    "retrieval_config.add_parameter(\n",
    "    'JWST/NIRSPEC/PRISM_offset',\n",
    "    True,\n",
    "    transform_prior_cube_coordinate=lambda x : gaussian_prior(x, 0, 1e-4)\n",
    ")\n",
    "retrieval_config.add_parameter(\n",
    "    'JWST/NIRISSSOSS/O2_offset',\n",
    "    True,\n",
    "    transform_prior_cube_coordinate=lambda x : gaussian_prior(x, 0, 1e-4)\n",
    ")"
   ]
  },
  {
   "cell_type": "markdown",
   "metadata": {},
   "source": [
    "## Opacities"
   ]
  },
  {
   "cell_type": "code",
   "execution_count": null,
   "metadata": {},
   "outputs": [],
   "source": [
    "retrieval_config.set_rayleigh_species(['H2', 'He'])\n",
    "retrieval_config.set_continuum_opacities(['H2--H2', 'H2--He'])\n",
    "\n",
    "# Here we setup the line species for a free retrieval,\n",
    "# setting the prior bounds of the log10 abundance with the abund_lim parameter\n",
    "# So the retrieved value is the log mass fraction.\n",
    "retrieval_config.set_line_species([\"H2O__POKAZATEL\", \"CO-NatAbund\", \"CO2\", \"CH4__MM\", \"SO2\"], eq=False, abund_lim = (-8.0,0.0))"
   ]
  },
  {
   "cell_type": "markdown",
   "metadata": {},
   "source": [
    "## Plotting"
   ]
  },
  {
   "cell_type": "markdown",
   "metadata": {},
   "source": [
    "Please see  [\"Basic Retrieval Tutorial\"](retrieval_basic.html) if you do not know what's happening here."
   ]
  },
  {
   "cell_type": "code",
   "execution_count": 7,
   "metadata": {},
   "outputs": [],
   "source": [
    "# Define what to put into corner plot if run_mode == 'evaluate'\n",
    "for key, value in retrieval_config.parameters.items():\n",
    "    value.plot_in_corner = True\n",
    "    value.corner_label = key.replace(\"_\",\" \")\n",
    "\n",
    "# Define axis properties of spectral plot if run_mode == 'evaluate'\n",
    "retrieval_config.plot_kwargs[\"spec_xlabel\"] = 'Wavelength [micron]'\n",
    "retrieval_config.plot_kwargs[\"spec_ylabel\"] = r'$(R_{\\rm P}/R_*)^2$ [ppm]'\n",
    "retrieval_config.plot_kwargs[\"y_axis_scaling\"] = 1e6 # so we have units of ppm\n",
    "retrieval_config.plot_kwargs[\"xscale\"] = 'linear'\n",
    "retrieval_config.plot_kwargs[\"yscale\"] = 'linear'\n",
    "\n",
    "# Use at least ~100 samples to plot 3 sigma curves\n",
    "retrieval_config.plot_kwargs[\"nsample\"] = 10\n",
    "\n",
    "# Define from which observation object to take P-T\n",
    "# in evaluation mode (if run_mode == 'evaluate'),\n",
    "# add PT-envelope plotting options\n",
    "retrieval_config.plot_kwargs[\"take_PTs_from\"] = 'JWST/NIRSPEC/PRISM' \n",
    "retrieval_config.plot_kwargs[\"temp_limits\"] = [150, 3000]\n",
    "retrieval_config.plot_kwargs[\"press_limits\"] = [1e1, 1e-7]\n",
    "\n",
    "# If in doubt, define all of the plot_kwargs used here."
   ]
  },
  {
   "cell_type": "markdown",
   "metadata": {},
   "source": [
    "## Running the retrieval\n",
    "\n",
    "Like in [\"Basic Retrieval Tutorial\"](retrieval_basic.html) we can now run the retrieval.\n",
    "Most of the various parameters used to control pyMultiNest or Ultranest can be set in the `retrieval.run()` function, see the [API documentation](../../autoapi/petitRADTRANS/retrieval/retrieval/index.html).\n",
    "\n",
    "Once the retrieval is complete, we can use the `plot_all` function to generate plots of the best fit spectrum, the pressure-temperature profile and the corner plots, also see [\"Basic Retrieval Tutorial\"](retrieval_basic.html)."
   ]
  },
  {
   "cell_type": "code",
   "execution_count": null,
   "metadata": {
    "tags": []
   },
   "outputs": [
    {
     "name": "stdout",
     "output_type": "stream",
     "text": [
      "Setting up Radtrans object for data 'JWST/NIRSPEC/PRISM'...\n",
      "Loading Radtrans opacities...\n",
      " Done.ng line opacities of species 'H2O__POKAZATEL.R300' from file '/home/dblain/petitRADTRANS/input_data/opacities/lines/correlated_k/H2O/1H2-16O/1H2-16O__POKAZATEL.R300_0.3-50mu.ktable.petitRADTRANS.h5'...\n",
      " Done.ng line opacities of species 'CO-NatAbund.R300' from file '/home/dblain/petitRADTRANS/input_data/opacities/lines/correlated_k/CO/C-O-NatAbund/C-O-NatAbund__HITEMP.R300_0.1-250mu.ktable.petitRADTRANS.h5'...\n",
      " Done.ng line opacities of species 'CO2.R300' from file '/home/dblain/petitRADTRANS/input_data/opacities/lines/correlated_k/CO2/12C-16O2/12C-16O2__UCL-4000.R300_0.3-50mu.ktable.petitRADTRANS.h5'...\n",
      " Done.ng line opacities of species 'CH4.R300' from file '/home/dblain/petitRADTRANS/input_data/opacities/lines/correlated_k/CH4/12C-1H4/12C-1H4__YT34to10.R300_0.3-50mu.ktable.petitRADTRANS.h5'...\n",
      " Done.ng line opacities of species 'SO2.R300' from file '/home/dblain/petitRADTRANS/input_data/opacities/lines/correlated_k/SO2/32S-16O2/32S-16O2__ExoAmes.R300_0.3-50mu.ktable.petitRADTRANS.h5'...\n",
      " Successfully loaded all line opacities\n",
      " Loading CIA opacities for H2--H2 from file '/home/dblain/petitRADTRANS/input_data/opacities/continuum/collision_induced_absorptions/H2--H2/H2--H2-NatAbund/H2--H2-NatAbund__BoRi.R831_0.6-250mu.ciatable.petitRADTRANS.h5'... Done.\n",
      " Loading CIA opacities for H2--He from file '/home/dblain/petitRADTRANS/input_data/opacities/continuum/collision_induced_absorptions/H2--He/H2--He-NatAbund/H2--He-NatAbund__BoRi.DeltaWavenumber2_0.5-500mu.ciatable.petitRADTRANS.h5'... Done.\n",
      " Successfully loaded all CIA opacities\n",
      "Successfully loaded all opacities\n"
     ]
    }
   ],
   "source": [
    "output_dir = f\"retrievals/runs/\"\n",
    "\n",
    "retrieval = Retrieval(\n",
    "    retrieval_config,\n",
    "    output_directory=output_dir,\n",
    "    evaluate_sample_spectra=False,  # output the spectrum from nsample random samples.                     \n",
    "    use_prt_plot_style=True,  # we think that our plots look nice.\n",
    "    ultranest=False  # let's use pyMultiNest rather than Ultranest\n",
    ")"
   ]
  },
  {
   "cell_type": "markdown",
   "metadata": {},
   "source": [
    "This retrieval is very complex and thus takes several days to run, with hundred of cores on a cluster.\n",
    "\n",
    "To try to run the retrieval anyway, set `run_retrieval` below to `True`, then execute the cells below."
   ]
  },
  {
   "cell_type": "code",
   "execution_count": null,
   "metadata": {},
   "outputs": [],
   "source": [
    "run_retrieval = True"
   ]
  },
  {
   "cell_type": "code",
   "execution_count": null,
   "metadata": {},
   "outputs": [
    {
     "name": "stdout",
     "output_type": "stream",
     "text": [
      "CPU times: user 1 µs, sys: 1 µs, total: 2 µs\n",
      "Wall time: 5.25 µs\n"
     ]
    }
   ],
   "source": [
    "if run_retrieval:\n",
    "    # For a test retrieval, so that we can generate plots we'll use only 40 live points and \n",
    "    # constant efficiency mode.\n",
    "    retrieval.run(\n",
    "        sampling_efficiency=0.05,\n",
    "        const_efficiency_mode=True,\n",
    "        n_live_points=40\n",
    "        # See API or other tutorials for additional PyMultiNest or Ultranest parameters\n",
    "    )"
   ]
  },
  {
   "cell_type": "code",
   "execution_count": 11,
   "metadata": {},
   "outputs": [],
   "source": [
    "# Automatically generate all of the standard output plots. The contribution \n",
    "# argument means that the PT profile and abundance profile plots will display \n",
    "# the contribution function. The mode argument means we'll be plotting a model\n",
    "# based on the median retrieved parameter values, rather than the minimum likelihood\n",
    "# model.\n",
    "if run_retrieval:\n",
    "    retrieval.plot_all(contribution=True, mode='median')"
   ]
  },
  {
   "cell_type": "markdown",
   "metadata": {},
   "source": [
    "**Contact**\n",
    "\n",
    "If you need any additional help, don't hesitate to contact [Evert Nasedkin](mailto:nasedkinevert@gmail.com?subject=[petitRADTRANS]%20Retrievals)."
   ]
  }
 ],
 "metadata": {
  "kernelspec": {
   "display_name": "prt3python312",
   "language": "python",
   "name": "python3"
  },
  "language_info": {
   "codemirror_mode": {
    "name": "ipython",
    "version": 3
   },
   "file_extension": ".py",
   "mimetype": "text/x-python",
   "name": "python",
   "nbconvert_exporter": "python",
   "pygments_lexer": "ipython3",
   "version": "3.12.5"
  },
  "pycharm": {
   "stem_cell": {
    "cell_type": "raw",
    "metadata": {
     "collapsed": false
    },
    "source": []
   }
  }
 },
 "nbformat": 4,
 "nbformat_minor": 4
}
