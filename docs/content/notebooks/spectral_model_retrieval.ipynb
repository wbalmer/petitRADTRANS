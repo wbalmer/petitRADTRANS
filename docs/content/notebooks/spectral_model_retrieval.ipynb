{
 "cells": [
  {
   "cell_type": "markdown",
   "id": "e3b56ea1-0e99-4b5c-9251-a67d8199906d",
   "metadata": {},
   "source": [
    "# High-reesolution retrieval workflow with `SpectralModel` <a id='retrieval'></a>"
   ]
  },
  {
   "cell_type": "markdown",
   "id": "7a4ab961-e3eb-429c-8fdc-700e67e6ccb6",
   "metadata": {},
   "source": [
    "<div class=\"alert alert-block alert-warning\">\n",
    "\n",
    "pRT3 is still in polishing phase. Expect minor changes in the realease version.\n",
    "</div>\n",
    "\n",
    "The goal of this notebook is to go through a typical high-resolution retrieval workflow with `SpectralModel`. More details on the `SpectralModel` object are available in the [`SpectralModel` notebook](./spectral_model.ipynb).\n",
    "\n",
    "We make some useful imports below."
   ]
  },
  {
   "cell_type": "code",
   "execution_count": 1,
   "id": "5615f0c4-9b17-45eb-9038-00216eb9b896",
   "metadata": {},
   "outputs": [],
   "source": [
    "import os\n",
    "\n",
    "import matplotlib.pyplot as plt\n",
    "import numpy as np\n",
    "\n",
    "import petitRADTRANS.physical_constants as cst\n",
    "from petitRADTRANS.plotlib import plot_result_corner\n",
    "from petitRADTRANS.retrieval.preparing import polyfit\n",
    "from petitRADTRANS.retrieval.retrieval import Retrieval\n",
    "from petitRADTRANS.spectral_model import SpectralModel"
   ]
  },
  {
   "cell_type": "markdown",
   "id": "5f3a5ce4-a10e-44ec-a54a-fb7d3a04b5ba",
   "metadata": {},
   "source": [
    "## Loading a `Planet`"
   ]
  },
  {
   "cell_type": "markdown",
   "id": "87e232a5-9272-46b3-a6fe-c9d6a7d4870f",
   "metadata": {},
   "source": [
    "It can be convenient to use the [`Planet` object](./planet.ipynb) to get the parameters we need. Note that this is not required."
   ]
  },
  {
   "cell_type": "code",
   "execution_count": 2,
   "id": "2816095c-f35c-489b-af9f-f17ecb65f64a",
   "metadata": {},
   "outputs": [],
   "source": [
    "from petitRADTRANS.planet import Planet\n",
    "\n",
    "planet = Planet.get('HD 189733 b')"
   ]
  },
  {
   "cell_type": "markdown",
   "id": "30fc1178-4d7b-4f79-a3fc-bb1f5372a890",
   "metadata": {},
   "source": [
    "## Loading data or generating simulated data"
   ]
  },
  {
   "cell_type": "markdown",
   "id": "e1461e51-6492-4d28-aa7f-80dbfda80c29",
   "metadata": {},
   "source": [
    "The first step of any retrieval is to load the data that we will retrieve. Here we do not have real data, so we will generate simulated data.\n",
    "\n",
    "To build simulated data, we can add telluric transmittances, setllar lines, instrumental deformations, and noise. To do this, we can make use of the following arguments:\n",
    "- `telluric_transmittances`: telluric transmittances to combine with the spectrum. Those can make use of the `airmass` model parameter to automatically build time- and wavelength-varying transmittances. A good place to download telluric transitances is the [SKYCALC](https://www.eso.org/observing/etc/bin/gen/form?INS.MODE=swspectr+INS.NAME=SKYCALC) website. petitRADTRANS also has a module to directly download SKYCALC data, calculate the airmass, and even find the best day for your observations in the module `petitRADTRANS.cli.eso_skycalc_cli`.\n",
    "- `telluric_transmittances_wavelengths`: wavelengths of the provided telluric transmittances.\n",
    "- `instrumental_deformations`: time and wavelength matrix of the instrumental deformations. Must be of shape `(n_orders, n_exposures, n_wavelengths)`.\n",
    "- `noise_matrix`: time and wavelength matrix of noise. Must be of shape `(n_orders, n_exposures, n_wavelengths)`.\n",
    "\n",
    "We will generate mock data wavelengths and times below. We will assume that we observed 19 exposures. To keep things simple, we will assume that `star_radial_velocity` is fixed, and `barycentric_velocities` varies linearly. We will fix `rest_frame_velocity_shift` to -5 km.s-1, and let `SpectralModel` calculate $K_p$ for us."
   ]
  },
  {
   "cell_type": "code",
   "execution_count": 3,
   "id": "75910196-5223-4c4c-a2bb-51b65ddbabaf",
   "metadata": {},
   "outputs": [],
   "source": [
    "from petitRADTRANS.math import resolving_space\n",
    "\n",
    "n_exposures = 19\n",
    "\n",
    "data_wavelengths = resolving_space(1.519, 1.522, 2e5) * 1e-4 # (cm) generate wavelengths at a constant resolving power\n",
    "data_uncertainties = 5e-4 * np.ones((1, n_exposures, data_wavelengths.size))  # uncertainties assuming a S/N of 2000\n",
    "\n",
    "times = 0.85 * planet.transit_duration * (np.linspace(0, 1, n_exposures) - 0.5)  # covering 85% of the transit duration\n",
    "mid_transit_time = 2458004.424877  # (JD)\n",
    "\n",
    "dates = mid_transit_time + times / cst.s_cst.day\n",
    "orbital_phases = times / planet.orbital_period\n",
    "\n",
    "# Get V_* and V_bary from Planet\n",
    "star_radial_velocity = planet.star_radial_velocity  # (cm.s-1) V_sys\n",
    "barycentric_velocities = planet.calculate_barycentric_velocities(\n",
    "    time=dates,\n",
    "    site_name='CAHA',\n",
    "    time_format='jd'\n",
    ")\n",
    "\n",
    "# High resolution telluric transmittances (typically downloaded from SKYCALC)\n",
    "telluric_transmittances_wavelengths = resolving_space(1.515, 1.525, 1e6) * 1e-4\n",
    "telluric_transmittances = np.ones(telluric_transmittances_wavelengths.size)\n",
    "\n",
    "telluric_transmittances[2850:2870] = 0.85\n",
    "telluric_transmittances[2900:2930] = 0.7\n",
    "telluric_transmittances[3400:3500] = 0.1\n",
    "telluric_transmittances[3900:3950] = 0.5\n",
    "telluric_transmittances[4400:4475] = 0.3\n",
    "\n",
    "# Calculate the airmass using the Planet function\n",
    "airmass = planet.calculate_airmass(\n",
    "    time=dates,\n",
    "    site_name='CAHA',\n",
    "    time_format='jd'\n",
    ")\n",
    "\n",
    "# Random wavelength-constant instrumental deformations (typically unknown on real data), we use a seed for reprooducibility\n",
    "instrumental_deformations = (0.4 - 0.2) * np.random.default_rng(seed=12345).random(n_exposures) + 0.2\n",
    "instrumental_deformations = np.repeat(instrumental_deformations[:, np.newaxis], data_wavelengths.size, axis=-1)\n",
    "\n",
    "# Noise assuming a S/N of 1000, we use a seed for reprooducibility\n",
    "data_uncertainties = 5e-4 * np.ones((1, n_exposures, data_wavelengths.size))\n",
    "noise_matrix = np.random.default_rng(seed=54321).normal(loc=0, scale=data_uncertainties)\n",
    "noise_factor = 20  # for visual purposes"
   ]
  },
  {
   "cell_type": "markdown",
   "id": "fbff3cc8-518b-4820-bc8f-4e4040f2fa5a",
   "metadata": {},
   "source": [
    "Now let's initalize our simulated data. We will add an opaque cloud layer at 100 mbar. Our instrument will have a resolving power of $R = 80\\,000$.\n",
    "<div class=\"alert alert-block alert-info\">\n",
    "\n",
    "**Argument `wavelength_boundaries`:** if you provide parameters such as the wavelengths of your data (`rebinning_wavelengths`), you no longer need to manually set `wavelength_boundaries`: `SpectralModel` will automatically calculate the optimal wavelengths boundaries for your data, taking into account the effect of time-varying Doppler-shift.\n",
    "</div>\n",
    "\n",
    "We will use `planet` to get some of the required parameters."
   ]
  },
  {
   "cell_type": "code",
   "execution_count": 4,
   "id": "fe34ba18-0a3c-4299-919b-19699b6a855b",
   "metadata": {},
   "outputs": [
    {
     "name": "stdout",
     "output_type": "stream",
     "text": [
      "Loading Radtrans opacities...\n",
      " Loading line opacities of species 'CO-NatAbund' from file '/home/dblain/petitRADTRANS/input_data/opacities/lines/line_by_line/CO/C-O-NatAbund/C-O-NatAbund__HITRAN.R1e6_0.3-28mu.xsec.petitRADTRANS.h5'... Done.\n",
      " Loading line opacities of species 'H2O' from file '/home/dblain/petitRADTRANS/input_data/opacities/lines/line_by_line/H2O/1H2-16O/1H2-16O__HITEMP.R1e6_0.3-28mu.xsec.petitRADTRANS.h5'... Done.\n",
      " Successfully loaded all line opacities\n",
      " Loading CIA opacities for H2-H2 from file '/home/dblain/petitRADTRANS/input_data/opacities/continuum/collision_induced_absorptions/H2--H2/H2--H2-NatAbund/H2--H2-NatAbund__BoRi.R831_0.6-250mu.ciatable.petitRADTRANS.h5'... Done.\n",
      " Loading CIA opacities for H2-He from file '/home/dblain/petitRADTRANS/input_data/opacities/continuum/collision_induced_absorptions/H2--He/H2--He-NatAbund/H2--He-NatAbund__BoRi.DeltaWavenumber2_0.5-500mu.ciatable.petitRADTRANS.h5'... Done.\n",
      " Successfully loaded all CIA opacities\n",
      "Successfully loaded all opacities\n"
     ]
    }
   ],
   "source": [
    "data_model = SpectralModel(\n",
    "    # Radtrans parameters\n",
    "    pressures=np.logspace(-6, 2, 100),\n",
    "    line_species=[\n",
    "        'CO-NatAbund', \n",
    "        'H2O' \n",
    "    ],\n",
    "    rayleigh_species=['H2', 'He'],\n",
    "    gas_continuum_contributors=['H2-H2', 'H2-He'],\n",
    "    line_opacity_mode='lbl',\n",
    "    line_by_line_opacity_sampling=4,\n",
    "    # SpectralModel parameters\n",
    "    # Planet parameters\n",
    "    planet_radius=planet.radius,\n",
    "    reference_gravity=planet.reference_gravity,\n",
    "    reference_pressure=1e-2,\n",
    "    star_radius=planet.star_radius,\n",
    "    transit_duration=planet.transit_duration,\n",
    "    orbital_period=planet.orbital_period,\n",
    "    # Velocity paramters\n",
    "    star_mass=planet.star_mass,\n",
    "    orbit_semi_major_axis=planet.orbit_semi_major_axis,\n",
    "    orbital_inclination=planet.orbital_inclination,\n",
    "    rest_frame_velocity_shift=-5e5,  # (cm.s-1) V_rest\n",
    "    system_observer_radial_velocities=star_radial_velocity - barycentric_velocities,\n",
    "    # Temperature profile parameters\n",
    "    temperature_profile_mode='isothermal',\n",
    "    temperature=planet.equilibrium_temperature,\n",
    "    # Cloud parameters\n",
    "    opaque_cloud_top_pressure=1e-2,  # added opaque cloud\n",
    "    # Mass fractions\n",
    "    use_equilibrium_chemistry=False,\n",
    "    imposed_mass_fractions={\n",
    "        'CO-NatAbund': 1e-2,\n",
    "        'H2O': 1e-3,\n",
    "    },\n",
    "    filling_species={\n",
    "        'H2': 37,\n",
    "        'He': 12\n",
    "    },\n",
    "    # Observation parameters\n",
    "    rebinned_wavelengths=data_wavelengths,  # (cm)\n",
    "    rebin_range_margin_power=4,  # increase the margin of the optimal wavelengths boundaries by ~1 angstrom (1e-4 * 1 um)\n",
    "    convolve_resolving_power=8e4,  # used for the convolution\n",
    "    mid_transit_time=0,  # mid transit time relative to the times argument\n",
    "    times=times,\n",
    "    # Preparation parameters\n",
    "    airmass=airmass,\n",
    "    tellurics_mask_threshold=0.8,  # mask the fitted transmittances if it is below this value\n",
    "    polynomial_fit_degree=2,  # degree of the polynomial fit\n",
    "    uncertainties=data_uncertainties\n",
    ")"
   ]
  },
  {
   "cell_type": "markdown",
   "id": "dad94486-db07-4d61-941a-18a51a0d6de3",
   "metadata": {},
   "source": [
    "Now we can generate the simulated data. We will use **noiseless** simulated data to check the accuracy of our retrieval setup."
   ]
  },
  {
   "cell_type": "code",
   "execution_count": 5,
   "id": "08caa9b7-bb5c-42fa-9ade-dfbd4d3ae9b1",
   "metadata": {},
   "outputs": [],
   "source": [
    "# Simulated noiseless data (instead you would load the data here)\n",
    "data_wavelengths, data = data_model.calculate_spectrum(\n",
    "    mode='transmission',  # can also be 'emission' to generate an emission spectrum, in that case, other model_parameters need to be provided\n",
    "    update_parameters=True,  # the parameters that we set will be properly initialised\n",
    "    telluric_transmittances_wavelengths=telluric_transmittances_wavelengths,\n",
    "    telluric_transmittances=telluric_transmittances,\n",
    "    instrumental_deformations=instrumental_deformations,\n",
    "    noise_matrix=None,  # no noise so we can see the lines\n",
    "    scale=True,\n",
    "    shift=True,\n",
    "    use_transit_light_loss=True,\n",
    "    convolve=True,\n",
    "    rebin=True,\n",
    "    prepare=False  # if the data were loaded, a preparation could not be done rigth away\n",
    ")\n",
    "\n",
    "# The data and its uncertainties must be masked arrays\n",
    "data = np.ma.masked_array(data)\n",
    "data_uncertainties = np.ma.masked_array(data_uncertainties)\n",
    "\n",
    "# You can mask for example invalid pixels, here we will mask nothing\n",
    "data.mask = np.zeros(data.shape, dtype=bool)\n",
    "data_uncertainties.mask = np.zeros(data_uncertainties.shape, dtype=bool)"
   ]
  },
  {
   "cell_type": "markdown",
   "id": "64c55c0d-8c69-4671-95a1-9e758beaba3a",
   "metadata": {},
   "source": [
    "## Preparing the data"
   ]
  },
  {
   "cell_type": "markdown",
   "id": "0abae9a7-0dc6-44b7-9a35-e2724c961563",
   "metadata": {},
   "source": [
    "A crucial step to analyze these data is to clean the effect of the telluric and stellar lines, and of the instrumental deformations. This is done using a \"preparing pipeline\" (also called \"detrending\" or \"pre-processing\" step).\n",
    "\n",
    "The Polyfit preparing pipeline can be used, it is also the default `SpectralModel.preparing_pipeline` function. The well-known [SysRem](https://doi.org/10.1111/j.1365-2966.2004.08585.x) preparing pipeline is also implemented."
   ]
  },
  {
   "cell_type": "code",
   "execution_count": 6,
   "id": "0f69f266-9aa7-429c-9780-64d1f6d6ad80",
   "metadata": {},
   "outputs": [
    {
     "data": {
      "text/plain": [
       "Text(0.5, 1.0, 'Prepared noiseless data')"
      ]
     },
     "execution_count": 6,
     "metadata": {},
     "output_type": "execute_result"
    },
    {
     "data": {
      "image/png": "[encoded data removed]",
      "text/plain": [
       "<Figure size 1000x600 with 1 Axes>"
      ]
     },
     "metadata": {},
     "output_type": "display_data"
    }
   ],
   "source": [
    "prepared_data, preparation_matrix, prepared_data_uncertainties = polyfit(\n",
    "    spectrum=data,\n",
    "    uncertainties=data_uncertainties,\n",
    "    wavelengths=data_wavelengths,\n",
    "    airmass=airmass,\n",
    "    tellurics_mask_threshold=0.8,\n",
    "    polynomial_fit_degree=2,\n",
    "    full=True,\n",
    "    apply_throughput_removal=True,\n",
    "    apply_telluric_lines_removal=True\n",
    ")\n",
    "\n",
    "# Plot the prepared data\n",
    "fig, ax = plt.subplots(figsize = (10,6))\n",
    "\n",
    "ax.pcolormesh(data_wavelengths[0] * 1e4, orbital_phases, prepared_data[0])\n",
    "ax.set_xlabel('Wavelength [microns]')\n",
    "ax.set_ylabel('Orbital phase')\n",
    "ax.set_title('Prepared noiseless data')"
   ]
  },
  {
   "cell_type": "markdown",
   "id": "36a8d812-70a2-4d47-9a80-8e43abf342cb",
   "metadata": {},
   "source": [
    "## Setting retrieval parameters"
   ]
  },
  {
   "cell_type": "markdown",
   "id": "f2bfc547-a993-46fe-a8af-074ab6a55d7a",
   "metadata": {},
   "source": [
    "Once the data are loaded and prepared, the next step is to define our retrieval parameters. The `SpectralModel` retrieval workflow is slightly different from the `Radtrans` retrieval workflow.\n",
    "\n",
    "One of the advantages of having `SpectralModel.model_parameters` is that we have right away all of our retrieval parameters. In the `Radtrans` workflow, we would need to build a `RetrievalConfig` and add all of the parameters (fixed or retrieved) to it, as well as the opacities and continuum species. \n",
    "\n",
    "In the `SpectralModel` workflow, we only need to sepcify which of our `model_parameters` we would like to retrieve, and how.\n",
    "\n",
    "The retrieved parameters must be put in a dictionary:\n",
    "- Each key must refer to the desired `model_parameters` to retrieve.\n",
    "- The value of each key must be a dictionary containing at least the following keys:\n",
    "    - `'prior_type'`: a string stating the prior type to use. See `petitRADTRANS.retrieval.utils` to get a list of them.\n",
    "    - `'prior_parameters'`: a list of values, one for each of the prior function parameters.\n",
    "\n",
    "Other keys can be added, but they are optional:\n",
    "- `'figure_title'`: text to display above each posterior in the corner plot (more on that later)\n",
    "- `'figure_label'`: text to display at the bottom of each posterior in the corner plot\n",
    "- `'figure_coefficient'`: coefficient by which to multiply the posterior's value in the corner plot\n",
    "- `'figure_offset'`: value by which to offset the posterior's value in the corner plot\n",
    "\n",
    "The name to use for the retieved parameters must be the same name as the corresponding `model_parameters`, **with one exception**: the imposed mass fractions species must be **directly** named and **not** put inside a `imposed_mass_fractions` dictionary.\n",
    "\n",
    "<div class=\"alert alert-block alert-info\">\n",
    "    \n",
    "**Log10 retrieval:** if you want to retrieve the decimal logarithm of a parameter instead of the parameter itself, you can add `log10_` in front of its name. For example, `log10_opaque_cloud_top_pressure` instead of `opaque_cloud_top_pressure`. `SpectralModel` will make the conversion automatically.\n",
    "\n",
    "The imposed mass fraction are automatically retrieved in log-space and the species names **must not** be altered.\n",
    "    \n",
    "</div>\n",
    "\n",
    "Let's define our retrieved parameters. We will retrieve the temperature, the abundance of our line species, the pressure of the cloud, as well as $K_p$ and $V_\\textrm{rest}$. We will use uniform prior in all cases. This is a typical retrieval.\n",
    "\n",
    "<div class=\"alert alert-block alert-info\">\n",
    "    \n",
    "Note that **any** `model_parameters` can be retrieved in this way. It could be interesting to retrieve `convolve_resolving_power`, the mid transit time ($T_0$ `mid_transit_time`), `reference_gravity`... For this example, we will limit the number of retrieved parameters. But in a real case, you just need to add the name and prior parameters in the `retrieved_parameters` dictionary.\n",
    "    \n",
    "</div>"
   ]
  },
  {
   "cell_type": "code",
   "execution_count": 7,
   "id": "b01ac1ab-7499-4424-9eb2-668c51d0e76a",
   "metadata": {},
   "outputs": [],
   "source": [
    "retrieved_parameters = {\n",
    "    'temperature': {\n",
    "        'prior_parameters': [100, 4000],  # (K)\n",
    "        'prior_type': 'uniform',\n",
    "        'figure_title': r'T',\n",
    "        'figure_label': r'T (K)'\n",
    "    },\n",
    "    'CO-NatAbund': {\n",
    "        'prior_parameters': [-12, 0],  # (MMR)\n",
    "        'prior_type': 'uniform',\n",
    "        'figure_title': r'[CO]',\n",
    "        'figure_label': r'$\\log_{10}$(MMR) CO'\n",
    "    },\n",
    "    'H2O': {\n",
    "        'prior_parameters': [-12, 0],  # (MMR)\n",
    "        'prior_type': 'uniform',\n",
    "        'figure_title': r'[H$_2$O]',\n",
    "        'figure_label': r'$\\log_{10}$(MMR) H$_2$O'\n",
    "    },\n",
    "    'log10_opaque_cloud_top_pressure': {\n",
    "        'prior_parameters': [-10, 2],  # (bar)\n",
    "        'prior_type': 'uniform',\n",
    "        'figure_title': r'[$P_c$]',\n",
    "        'figure_label': r'$\\log_{10}(P_c)$ ([Pa])',\n",
    "        'figure_offset': 5  # [bar] to [Pa]\n",
    "    },\n",
    "    'radial_velocity_semi_amplitude': {\n",
    "        'prior_parameters': np.array([100e5, 200e5]),  # (cm.s-1)\n",
    "        'prior_type': 'uniform',\n",
    "        'figure_title': r'$K_p$',\n",
    "        'figure_label': r'$K_p$ (km$\\cdot$s$^{-1}$)',\n",
    "        'figure_coefficient': 1e-5  # cm.s-1 to km.s-1\n",
    "    },\n",
    "    'rest_frame_velocity_shift': {\n",
    "        'prior_parameters': np.array([-10e5, 10e5]),  # (cm.s-1)\n",
    "        'prior_type': 'uniform',\n",
    "        'figure_title': r'$V_\\mathrm{rest}$',\n",
    "        'figure_label': r'$V_\\mathrm{rest}$ (km$\\cdot$s$^{-1}$)',\n",
    "        'figure_coefficient': 1e-5  # cm.s-1 to km.s-1\n",
    "    }\n",
    "}"
   ]
  },
  {
   "cell_type": "markdown",
   "id": "cd1402f2-6f94-41a7-a047-79299f0edff8",
   "metadata": {},
   "source": [
    "## The forward model: a `SpectralModel` with velocity range"
   ]
  },
  {
   "cell_type": "markdown",
   "id": "09fa765c-7f10-4500-88a9-0064c5817dc4",
   "metadata": {},
   "source": [
    "A high-resolution retrieval is a computationally expensive task. A way to optimize the retrieval time is to make use of `SpectralModel`'s optimal wavelength boundaries calculation.\n",
    "\n",
    "However, because we will be exploring a **range** of velocities (through $K_p$ and $V_\\textrm{rest}$) in this retrieval, we cannot simply instatitate our `SpectralModel` by giving one value for `radial_velocity_semi_amplitude` and `rest_frame_velocity_shift`. Fortunately, we can instantiate `SpectralModel` using the initializing function `with_velocity_range` to take care of that. \n",
    "\n",
    "Because we used uniform priors, that are parameterized by their lower and upper boundaries, we can directly use `retrieved_parameters`. With other priors, such as `gaussian`, this would be more difficult.\n",
    "\n",
    "<div class=\"alert alert-block alert-info\">\n",
    "    \n",
    "**$T_0$ retrieval:** if we retrieved $T_0$ as well, the argument `mid_transit_time_range` of `with_velocity_range` could be used.\n",
    "    \n",
    "</div>"
   ]
  },
  {
   "cell_type": "code",
   "execution_count": 8,
   "id": "f7e73477-b42f-4790-a7ac-3abc0978df08",
   "metadata": {},
   "outputs": [
    {
     "name": "stdout",
     "output_type": "stream",
     "text": [
      "Loading Radtrans opacities...\n",
      " Loading line opacities of species 'CO-NatAbund' from file '/home/dblain/petitRADTRANS/input_data/opacities/lines/line_by_line/CO/C-O-NatAbund/C-O-NatAbund__HITRAN.R1e6_0.3-28mu.xsec.petitRADTRANS.h5'... Done.\n",
      " Loading line opacities of species 'H2O' from file '/home/dblain/petitRADTRANS/input_data/opacities/lines/line_by_line/H2O/1H2-16O/1H2-16O__HITEMP.R1e6_0.3-28mu.xsec.petitRADTRANS.h5'... Done.\n",
      " Successfully loaded all line opacities\n",
      " Loading CIA opacities for H2-H2 from file '/home/dblain/petitRADTRANS/input_data/opacities/continuum/collision_induced_absorptions/H2--H2/H2--H2-NatAbund/H2--H2-NatAbund__BoRi.R831_0.6-250mu.ciatable.petitRADTRANS.h5'... Done.\n",
      " Loading CIA opacities for H2-He from file '/home/dblain/petitRADTRANS/input_data/opacities/continuum/collision_induced_absorptions/H2--He/H2--He-NatAbund/H2--He-NatAbund__BoRi.DeltaWavenumber2_0.5-500mu.ciatable.petitRADTRANS.h5'... Done.\n",
      " Successfully loaded all CIA opacities\n",
      "Successfully loaded all opacities\n"
     ]
    }
   ],
   "source": [
    "forward_model = SpectralModel.with_velocity_range(\n",
    "    # Velocity parameters\n",
    "    radial_velocity_semi_amplitude_range=retrieved_parameters['radial_velocity_semi_amplitude']['prior_parameters'],\n",
    "    rest_frame_velocity_shift_range=retrieved_parameters['rest_frame_velocity_shift']['prior_parameters'],\n",
    "    mid_transit_times_range=None,  # we do not retrieve T0\n",
    "    # Radtrans parameters\n",
    "    pressures=np.logspace(-6, 2, 100),\n",
    "    line_species=[\n",
    "        'CO-NatAbund', \n",
    "        'H2O' \n",
    "    ],\n",
    "    rayleigh_species=['H2', 'He'],\n",
    "    gas_continuum_contributors=['H2-H2', 'H2-He'],\n",
    "    line_opacity_mode='lbl',\n",
    "    line_by_line_opacity_sampling=4,\n",
    "    # SpectralModel parameters\n",
    "    # Planet parameters\n",
    "    planet_radius=planet.radius,\n",
    "    reference_gravity=planet.reference_gravity,\n",
    "    reference_pressure=1e-2,\n",
    "    star_radius=planet.star_radius,\n",
    "    transit_duration=planet.transit_duration,\n",
    "    orbital_period=planet.orbital_period,\n",
    "    # Velocity paramters\n",
    "    star_mass=planet.star_mass,\n",
    "    orbit_semi_major_axis=planet.orbit_semi_major_axis,\n",
    "    orbital_inclination=planet.orbital_inclination,\n",
    "    rest_frame_velocity_shift=0,  # (cm.s-1) V_rest\n",
    "    system_observer_radial_velocities=star_radial_velocity - barycentric_velocities,\n",
    "    # Temperature profile parameters\n",
    "    temperature_profile_mode='isothermal',\n",
    "    temperature=planet.equilibrium_temperature,\n",
    "    # Cloud parameters\n",
    "    opaque_cloud_top_pressure=1e-2,  # added opaque cloud\n",
    "    # Mass fractions\n",
    "    use_equilibrium_chemistry=False,\n",
    "    imposed_mass_fractions={\n",
    "        'CO-NatAbund': 1e-12,\n",
    "        'H2O': 1e-12,\n",
    "    },\n",
    "    filling_species={\n",
    "        'H2': 37,\n",
    "        'He': 12\n",
    "    },\n",
    "    # Observation parameters\n",
    "    rebinned_wavelengths=data_wavelengths,  # (cm)\n",
    "    rebin_range_margin_power=4,  # increase the margin of the optimal wavelengths boundaries by ~1 angstrom (1e-4 * 1 um)\n",
    "    convolve_resolving_power=8e4,  # used for the convolution\n",
    "    mid_transit_time=0,\n",
    "    times=times,\n",
    "    # Preparation parameters\n",
    "    airmass=airmass,\n",
    "    tellurics_mask_threshold=0.8,  # mask the fitted transmittances if it is below this value\n",
    "    polynomial_fit_degree=2,  # degree of the polynomial fit\n",
    "    uncertainties=data_uncertainties\n",
    ")"
   ]
  },
  {
   "cell_type": "markdown",
   "id": "387f060f-48d6-4e46-bf26-9e511fb40712",
   "metadata": {},
   "source": [
    "## Retrieving the data"
   ]
  },
  {
   "cell_type": "markdown",
   "id": "c43459d0-2b3b-4741-a273-e7a91281e07e",
   "metadata": {},
   "source": [
    "The `SpectralModel` workflow uses the same objects (`Data`, `Retrieval`) than for the `Radtrans` retrieval workflow, but use them a bit differently. A description of these objects is available in the [retrieval notebook](./basic_retrieval.ipynb)."
   ]
  },
  {
   "cell_type": "markdown",
   "id": "784047f2-de05-46c3-afbd-9421b71322f4",
   "metadata": {},
   "source": [
    "### Instanciating a `Data` object from a `SpectralModel` object"
   ]
  },
  {
   "cell_type": "markdown",
   "id": "473545b8-9209-45ad-a171-027144108c2e",
   "metadata": {},
   "source": [
    "The `Data` object combines the data with an associated forward model, here, `forward_model`. During the retrieval, `forward_model` will be used to fit the data. The fixed parameters of the retrieval are the **model parameters** of `forward_model` that are not in `retrieved_parameters`."
   ]
  },
  {
   "cell_type": "code",
   "execution_count": 9,
   "id": "0316c789-974f-4600-b3de-f30294549238",
   "metadata": {},
   "outputs": [
    {
     "name": "stdout",
     "output_type": "stream",
     "text": [
      "Taking care of mask...\n"
     ]
    }
   ],
   "source": [
    "data = {  # multiple data can be retrieved by adding multiple keys\n",
    "    'data_1': forward_model.init_data(\n",
    "        # Data parameters\n",
    "        data_spectrum=prepared_data,\n",
    "        data_wavelengths=data_wavelengths,\n",
    "        data_uncertainties=data_uncertainties,\n",
    "        data_name='data_1',\n",
    "        # Retrieved parameters\n",
    "        retrieved_parameters=retrieved_parameters,\n",
    "        # Forward model post-processing parameters\n",
    "        mode='transmission',\n",
    "        update_parameters=True,\n",
    "        scale=True,\n",
    "        shift=True,\n",
    "        use_transit_light_loss=True,\n",
    "        convolve=True,\n",
    "        rebin=True,\n",
    "        prepare=True\n",
    "    )\n",
    "}"
   ]
  },
  {
   "cell_type": "markdown",
   "id": "7e7d7182-1c06-4ed3-81b5-6e5379de7c6c",
   "metadata": {},
   "source": [
    "### Instanciating a `Retrieval` object from a `Data` object"
   ]
  },
  {
   "cell_type": "markdown",
   "id": "f14a0c67-74b8-47c5-8a18-d0b1464036cf",
   "metadata": {},
   "source": [
    "Now let's make a `Retrieval` object from `data`."
   ]
  },
  {
   "cell_type": "code",
   "execution_count": 10,
   "id": "bb815836-33fe-46d9-8d28-d4f176abeb11",
   "metadata": {},
   "outputs": [
    {
     "name": "stdout",
     "output_type": "stream",
     "text": [
      "Using provided Radtrans object for data 'data_1'...\n"
     ]
    }
   ],
   "source": [
    "retrieval_name = 'my_retrieval'\n",
    "retrieval_directory = os.path.join('.', retrieval_name)\n",
    "\n",
    "retrieval = Retrieval.from_data(\n",
    "    data=data,\n",
    "    retrieved_parameters=retrieved_parameters,\n",
    "    retrieval_name=retrieval_name,\n",
    "    output_directory=retrieval_directory,\n",
    "    run_mode='retrieval'\n",
    ")"
   ]
  },
  {
   "cell_type": "markdown",
   "id": "13485143-0175-4fd5-bce6-27e3576798d6",
   "metadata": {},
   "source": [
    "### Running the retrieval"
   ]
  },
  {
   "cell_type": "markdown",
   "id": "d7f77d05-028c-4c0d-bec8-79dd344d9e81",
   "metadata": {},
   "source": [
    "Let's run the retrieval. We will use very few live points and data points for speed. In a real high-resolution case, 100 live points are enough to obtain reasonably defined posteriors. This should a couple of minute."
   ]
  },
  {
   "cell_type": "code",
   "execution_count": null,
   "id": "cbe6a0ee-0653-4127-b434-6ec61b5a5e15",
   "metadata": {},
   "outputs": [
    {
     "name": "stdout",
     "output_type": "stream",
     "text": [
      "Starting retrieval my_retrieval\n",
      "Testing data 'data_1':\n",
      " wavelengths:\n",
      "  OK (no NaN, infinite, or negative value detected)\n",
      " spectrum:\n",
      "  OK (no NaN, infinite, or negative value detected)\n",
      " uncertainties:\n",
      "  OK (no NaN, infinite, or negative value detected)\n",
      "Testing model function for data 'data_1'...\n",
      "No errors detected in the model functions!\n",
      "Starting retrieval: my_retrieval\n",
      "\n",
      " *****************************************************\n",
      " MultiNest v3.10\n",
      " Copyright Farhan Feroz & Mike Hobson\n",
      " Release Jul 2015\n",
      "\n",
      " no. of live points =   16\n",
      " dimensionality =    6\n",
      " *****************************************************\n",
      " Starting MultiNest\n",
      " generating live points\n",
      " live points generated, starting sampling\n",
      "Acceptance Rate:                        0.445946\n",
      "Replacements:                                 66\n",
      "Total Samples:                               148\n",
      "Nested Sampling ln(Z):                 -8.434502\n",
      "Importance Nested Sampling ln(Z):      -8.765946 +/-  0.134745\n",
      "Acceptance Rate:                        0.300518\n",
      "Replacements:                                116\n",
      "Total Samples:                               386\n",
      "Nested Sampling ln(Z):                 -7.445811\n",
      "Importance Nested Sampling ln(Z):      -8.730558 +/-  0.136778\n"
     ]
    }
   ],
   "source": [
    "retrieval.run(\n",
    "    n_live_points=16,\n",
    "    resume=False,\n",
    "    seed=12345  # ⚠️ seed should be removed or set to -1 in a real retrieval, it is added here for reproducibility\n",
    ")"
   ]
  },
  {
   "cell_type": "markdown",
   "id": "696068ff-38eb-4e92-891d-babb65769853",
   "metadata": {},
   "source": [
    "<div class=\"alert alert-block alert-info\">\n",
    "\n",
    "In real high-resolution retrievals, it is not rare for the log-evidence (`ln(Z)`) printed by MultiNest to be `********`. This is because high-resolution data contains a lot of points ($\\approx 10^6$), so the log-evidence can reach very large values. Here the printed log-evidence should be small because of the few number of data points, but most importantly because we used noiseless data.\n",
    "</div>"
   ]
  },
  {
   "cell_type": "markdown",
   "id": "e1dc5604-a3f5-45a4-a7c5-f55c8d2f01da",
   "metadata": {},
   "source": [
    "### Plotting a corner plot\n",
    "\n",
    "Now we just have use a corner plot to visualize the results.\n",
    "\n",
    "Since we used simulated data, we can check if we correctly retrieved the parameters by adding the `true_values` argument. In a retrieval on real data, the true parameters are unknow, so `true_values` can be left to `None`.\n",
    "\n",
    "The posteriors will probably not be very well defined because of the few number of live points we used and insufficient S/N."
   ]
  },
  {
   "cell_type": "code",
   "execution_count": null,
   "id": "15c979cc-5943-4a0a-932b-e7572c70e3b5",
   "metadata": {},
   "outputs": [],
   "source": [
    "true_parameters = data_model.get_true_parameters(retrieved_parameters)  # get our simulated data true parameters\n",
    "\n",
    "plot_result_corner(\n",
    "    retrieval_directory=[\n",
    "        retrieval_directory\n",
    "    ],\n",
    "    retrieved_parameters=retrieved_parameters,\n",
    "    figure_name='my_retrieval',\n",
    "    label_kwargs={'fontsize': 16},\n",
    "    title_kwargs={'fontsize': 14},\n",
    "    figure_font_size=12,\n",
    "    true_values=true_parameters,\n",
    "    save=True, \n",
    "    figure_directory='./',  \n",
    "    image_format='png'\n",
    ")"
   ]
  }
 ],
 "metadata": {
  "kernelspec": {
   "display_name": "Python 3 (ipykernel)",
   "language": "python",
   "name": "python3"
  },
  "language_info": {
   "codemirror_mode": {
    "name": "ipython",
    "version": 3
   },
   "file_extension": ".py",
   "mimetype": "text/x-python",
   "name": "python",
   "nbconvert_exporter": "python",
   "pygments_lexer": "ipython3",
   "version": "3.11.2"
  }
 },
 "nbformat": 4,
 "nbformat_minor": 5
}
